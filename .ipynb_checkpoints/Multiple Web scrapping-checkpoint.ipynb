{
 "cells": [
  {
   "cell_type": "markdown",
   "metadata": {},
   "source": [
    "## 1. Retrieve an arbitrary Wikipedia page of \"Python\" and create a list of links on that page"
   ]
  },
  {
   "cell_type": "code",
   "execution_count": 1,
   "metadata": {},
   "outputs": [],
   "source": [
    "from bs4 import BeautifulSoup\n",
    "import requests"
   ]
  },
  {
   "cell_type": "code",
   "execution_count": 2,
   "metadata": {},
   "outputs": [],
   "source": [
    "url ='https://en.wikipedia.org/wiki/Python'"
   ]
  },
  {
   "cell_type": "code",
   "execution_count": 3,
   "metadata": {},
   "outputs": [
    {
     "data": {
      "text/plain": [
       "200"
      ]
     },
     "execution_count": 3,
     "metadata": {},
     "output_type": "execute_result"
    }
   ],
   "source": [
    "response = requests.get(url)\n",
    "response.status_code"
   ]
  },
  {
   "cell_type": "code",
   "execution_count": 4,
   "metadata": {},
   "outputs": [],
   "source": [
    "soup = BeautifulSoup(response.content, \"html.parser\")\n"
   ]
  },
  {
   "cell_type": "code",
   "execution_count": 5,
   "metadata": {},
   "outputs": [
    {
     "data": {
      "text/plain": [
       "<!DOCTYPE html>\n",
       "\n",
       "<html class=\"client-nojs vector-feature-language-in-header-enabled vector-feature-language-in-main-page-header-disabled vector-feature-language-alert-in-sidebar-enabled vector-feature-sticky-header-disabled vector-feature-page-tools-enabled vector-feature-page-tools-pinned-disabled vector-feature-toc-pinned-enabled vector-feature-main-menu-pinned-disabled vector-feature-limited-width-enabled vector-feature-limited-width-content-enabled\" dir=\"ltr\" lang=\"en\">\n",
       "<head>\n",
       "<meta charset=\"utf-8\"/>\n",
       "<title>Python - Wikipedia</title>\n",
       "<script>document.documentElement.className=\"client-js vector-feature-language-in-header-enabled vector-feature-language-in-main-page-header-disabled vector-feature-language-alert-in-sidebar-enabled vector-feature-sticky-header-disabled vector-feature-page-tools-enabled vector-feature-page-tools-pinned-disabled vector-feature-toc-pinned-enabled vector-feature-main-menu-pinned-disabled vector-feature-limited-width-enabled vector-feature-limited-width-content-enabled\";(function(){var cookie=document.cookie.match(/(?:^|; )enwikimwclientprefs=([^;]+)/);if(cookie){var featureName=cookie[1];document.documentElement.className=document.documentElement.className.replace(featureName+'-enabled',featureName+'-disabled');}}());RLCONF={\"wgBreakFrames\":false,\"wgSeparatorTransformTable\":[\"\",\"\"],\"wgDigitTransformTable\":[\"\",\"\"],\"wgDefaultDateFormat\":\"dmy\",\"wgMonthNames\":[\"\",\"January\",\"February\",\"March\",\"April\",\"May\",\"June\",\"July\",\"August\",\"September\",\"October\",\"November\",\"December\"],\"wgRequestId\":\n",
       "\"8e9ebacc-62e7-444c-be01-cdcb4d372a8a\",\"wgCSPNonce\":false,\"wgCanonicalNamespace\":\"\",\"wgCanonicalSpecialPageName\":false,\"wgNamespaceNumber\":0,\"wgPageName\":\"Python\",\"wgTitle\":\"Python\",\"wgCurRevisionId\":1143380376,\"wgRevisionId\":1143380376,\"wgArticleId\":46332325,\"wgIsArticle\":true,\"wgIsRedirect\":false,\"wgAction\":\"view\",\"wgUserName\":null,\"wgUserGroups\":[\"*\"],\"wgCategories\":[\"Short description is different from Wikidata\",\"All article disambiguation pages\",\"All disambiguation pages\",\"Animal common name disambiguation pages\",\"Disambiguation pages\",\"Human name disambiguation pages\",\"Disambiguation pages with given-name-holder lists\"],\"wgPageContentLanguage\":\"en\",\"wgPageContentModel\":\"wikitext\",\"wgRelevantPageName\":\"Python\",\"wgRelevantArticleId\":46332325,\"wgIsProbablyEditable\":true,\"wgRelevantPageIsProbablyEditable\":true,\"wgRestrictionEdit\":[],\"wgRestrictionMove\":[],\"wgFlaggedRevsParams\":{\"tags\":{\"status\":{\"levels\":1}}},\"wgVisualEditor\":{\"pageLanguageCode\":\"en\",\"pageLanguageDir\":\"ltr\",\n",
       "\"pageVariantFallbacks\":\"en\"},\"wgMFDisplayWikibaseDescriptions\":{\"search\":true,\"watchlist\":true,\"tagline\":false,\"nearby\":true},\"wgWMESchemaEditAttemptStepOversample\":false,\"wgWMEPageLength\":2000,\"wgNoticeProject\":\"wikipedia\",\"wgVector2022PreviewPages\":[],\"wgMediaViewerOnClick\":true,\"wgMediaViewerEnabledByDefault\":true,\"wgPopupsFlags\":10,\"wgULSCurrentAutonym\":\"English\",\"wgEditSubmitButtonLabelPublish\":true,\"wgCentralAuthMobileDomain\":false,\"wgULSPosition\":\"interlanguage\",\"wgULSisCompactLinksEnabled\":true,\"wgULSisLanguageSelectorEmpty\":false,\"wgWikibaseItemId\":\"Q747452\",\"GEHomepageSuggestedEditsEnableTopics\":true,\"wgGETopicsMatchModeEnabled\":false,\"wgGEStructuredTaskRejectionReasonTextInputEnabled\":false,\"wgGELevelingUpEnabledForUser\":false};RLSTATE={\"skins.vector.user.styles\":\"ready\",\"ext.globalCssJs.user.styles\":\"ready\",\"site.styles\":\"ready\",\"user.styles\":\"ready\",\"skins.vector.user\":\"ready\",\"ext.globalCssJs.user\":\"ready\",\"user\":\"ready\",\"user.options\":\"loading\",\"mediawiki.ui.button\":\n",
       "\"ready\",\"skins.vector.styles\":\"ready\",\"skins.vector.icons\":\"ready\",\"mediawiki.ui.icon\":\"ready\",\"ext.visualEditor.desktopArticleTarget.noscript\":\"ready\",\"ext.wikimediaBadges\":\"ready\",\"ext.uls.interlanguage\":\"ready\",\"wikibase.client.init\":\"ready\"};RLPAGEMODULES=[\"site\",\"mediawiki.page.ready\",\"mediawiki.toc\",\"skins.vector.js\",\"skins.vector.es6\",\"mmv.head\",\"mmv.bootstrap.autostart\",\"ext.visualEditor.desktopArticleTarget.init\",\"ext.visualEditor.targetLoader\",\"ext.eventLogging\",\"ext.wikimediaEvents\",\"ext.navigationTiming\",\"ext.cx.eventlogging.campaigns\",\"ext.centralNotice.geoIP\",\"ext.centralNotice.startUp\",\"ext.gadget.ReferenceTooltips\",\"ext.gadget.charinsert\",\"ext.gadget.extra-toolbar-buttons\",\"ext.gadget.switcher\",\"ext.centralauth.centralautologin\",\"ext.popups\",\"ext.echo.centralauth\",\"ext.uls.compactlinks\",\"ext.uls.interface\",\"ext.cx.uls.quick.actions\",\"wikibase.client.vector-2022\",\"ext.growthExperiments.SuggestedEditSession\"];</script>\n",
       "<script>(RLQ=window.RLQ||[]).push(function(){mw.loader.implement(\"user.options@12s5i\",function($,jQuery,require,module){mw.user.tokens.set({\"patrolToken\":\"+\\\\\",\"watchToken\":\"+\\\\\",\"csrfToken\":\"+\\\\\"});});});</script>\n",
       "<link href=\"/w/load.php?lang=en&amp;modules=ext.uls.interlanguage%7Cext.visualEditor.desktopArticleTarget.noscript%7Cext.wikimediaBadges%7Cmediawiki.ui.button%2Cicon%7Cskins.vector.icons%2Cstyles%7Cwikibase.client.init&amp;only=styles&amp;skin=vector-2022\" rel=\"stylesheet\"/>\n",
       "<script async=\"\" src=\"/w/load.php?lang=en&amp;modules=startup&amp;only=scripts&amp;raw=1&amp;skin=vector-2022\"></script>\n",
       "<meta content=\"\" name=\"ResourceLoaderDynamicStyles\"/>\n",
       "<link href=\"/w/load.php?lang=en&amp;modules=site.styles&amp;only=styles&amp;skin=vector-2022\" rel=\"stylesheet\"/>\n",
       "<meta content=\"MediaWiki 1.41.0-wmf.1\" name=\"generator\"/>\n",
       "<meta content=\"origin\" name=\"referrer\"/>\n",
       "<meta content=\"origin-when-crossorigin\" name=\"referrer\"/>\n",
       "<meta content=\"origin-when-cross-origin\" name=\"referrer\"/>\n",
       "<meta content=\"max-image-preview:standard\" name=\"robots\"/>\n",
       "<meta content=\"telephone=no\" name=\"format-detection\"/>\n",
       "<meta content=\"width=1000\" name=\"viewport\"/>\n",
       "<meta content=\"Python - Wikipedia\" property=\"og:title\"/>\n",
       "<meta content=\"website\" property=\"og:type\"/>\n",
       "<link href=\"//upload.wikimedia.org\" rel=\"preconnect\"/>\n",
       "<link href=\"//en.m.wikipedia.org/wiki/Python\" media=\"only screen and (max-width: 720px)\" rel=\"alternate\"/>\n",
       "<link href=\"/w/index.php?title=Python&amp;action=edit\" rel=\"alternate\" title=\"Edit this page\" type=\"application/x-wiki\"/>\n",
       "<link href=\"/static/apple-touch/wikipedia.png\" rel=\"apple-touch-icon\"/>\n",
       "<link href=\"/static/favicon/wikipedia.ico\" rel=\"icon\"/>\n",
       "<link href=\"/w/opensearch_desc.php\" rel=\"search\" title=\"Wikipedia (en)\" type=\"application/opensearchdescription+xml\"/>\n",
       "<link href=\"//en.wikipedia.org/w/api.php?action=rsd\" rel=\"EditURI\" type=\"application/rsd+xml\"/>\n",
       "<link href=\"https://en.wikipedia.org/wiki/Python\" rel=\"canonical\"/>\n",
       "<link href=\"https://creativecommons.org/licenses/by-sa/3.0/\" rel=\"license\"/>\n",
       "<link href=\"/w/index.php?title=Special:RecentChanges&amp;feed=atom\" rel=\"alternate\" title=\"Wikipedia Atom feed\" type=\"application/atom+xml\"/>\n",
       "<link href=\"//meta.wikimedia.org\" rel=\"dns-prefetch\"/>\n",
       "<link href=\"//login.wikimedia.org\" rel=\"dns-prefetch\"/>\n",
       "</head>\n",
       "<body class=\"skin-vector skin-vector-search-vue mediawiki ltr sitedir-ltr mw-hide-empty-elt ns-0 ns-subject mw-editable page-Python rootpage-Python skin-vector-2022 action-view\"><div class=\"mw-page-container\">\n",
       "<a class=\"mw-jump-link\" href=\"#bodyContent\">Jump to content</a>\n",
       "<div class=\"mw-page-container-inner\">\n",
       "<input class=\"mw-checkbox-hack-checkbox\" id=\"mw-sidebar-checkbox\" type=\"checkbox\"/>\n",
       "<header class=\"mw-header\">\n",
       "<div class=\"vector-header-start\">\n",
       "<nav aria-label=\"Site\" class=\"vector-main-menu-landmark\" role=\"navigation\">\n",
       "<div class=\"vector-menu vector-dropdown vector-menu-dropdown vector-main-menu-dropdown mw-ui-icon-flush-left mw-ui-icon-flush-right\" id=\"vector-main-menu-dropdown\">\n",
       "<input aria-haspopup=\"true\" aria-label=\"Main menu\" class=\"vector-menu-checkbox\" data-event-name=\"ui.dropdown-vector-main-menu-dropdown\" id=\"vector-main-menu-dropdown-checkbox\" role=\"button\" type=\"checkbox\">\n",
       "<label aria-hidden=\"true\" class=\"vector-menu-heading mw-checkbox-hack-button mw-ui-button mw-ui-quiet mw-ui-icon-element\" for=\"vector-main-menu-dropdown-checkbox\" id=\"vector-main-menu-dropdown-label\">\n",
       "<span class=\"mw-ui-icon mw-ui-icon-menu mw-ui-icon-wikimedia-menu\"></span>\n",
       "<span class=\"vector-menu-heading-label\">Main menu</span>\n",
       "</label>\n",
       "<div class=\"vector-menu-content vector-dropdown-content\">\n",
       "<div class=\"vector-unpinned-container\" id=\"vector-main-menu-unpinned-container\">\n",
       "<div class=\"vector-main-menu vector-pinnable-element\" id=\"vector-main-menu\">\n",
       "<div class=\"vector-pinnable-header vector-main-menu-pinnable-header vector-pinnable-header-unpinned\" data-feature-name=\"main-menu-pinned\" data-pinnable-element-id=\"vector-main-menu\" data-pinned-container-id=\"vector-main-menu-pinned-container\" data-unpinned-container-id=\"vector-main-menu-unpinned-container\">\n",
       "<div class=\"vector-pinnable-header-label\">Main menu</div>\n",
       "<button class=\"vector-pinnable-header-toggle-button vector-pinnable-header-pin-button\" data-event-name=\"pinnable-header.vector-main-menu.pin\">move to sidebar</button>\n",
       "<button class=\"vector-pinnable-header-toggle-button vector-pinnable-header-unpin-button\" data-event-name=\"pinnable-header.vector-main-menu.unpin\">hide</button>\n",
       "</div>\n",
       "<div class=\"vector-menu mw-portlet mw-portlet-navigation\" id=\"p-navigation\">\n",
       "<div class=\"vector-menu-heading\">\n",
       "\t\tNavigation\n",
       "\t</div>\n",
       "<div class=\"vector-menu-content\">\n",
       "<ul class=\"vector-menu-content-list\"><li class=\"mw-list-item\" id=\"n-mainpage-description\"><a accesskey=\"z\" href=\"/wiki/Main_Page\" title=\"Visit the main page [z]\"><span>Main page</span></a></li><li class=\"mw-list-item\" id=\"n-contents\"><a href=\"/wiki/Wikipedia:Contents\" title=\"Guides to browsing Wikipedia\"><span>Contents</span></a></li><li class=\"mw-list-item\" id=\"n-currentevents\"><a href=\"/wiki/Portal:Current_events\" title=\"Articles related to current events\"><span>Current events</span></a></li><li class=\"mw-list-item\" id=\"n-randompage\"><a accesskey=\"x\" href=\"/wiki/Special:Random\" title=\"Visit a randomly selected article [x]\"><span>Random article</span></a></li><li class=\"mw-list-item\" id=\"n-aboutsite\"><a href=\"/wiki/Wikipedia:About\" title=\"Learn about Wikipedia and how it works\"><span>About Wikipedia</span></a></li><li class=\"mw-list-item\" id=\"n-contactpage\"><a href=\"//en.wikipedia.org/wiki/Wikipedia:Contact_us\" title=\"How to contact Wikipedia\"><span>Contact us</span></a></li><li class=\"mw-list-item\" id=\"n-sitesupport\"><a href=\"https://donate.wikimedia.org/wiki/Special:FundraiserRedirector?utm_source=donate&amp;utm_medium=sidebar&amp;utm_campaign=C13_en.wikipedia.org&amp;uselang=en\" title=\"Support us by donating to the Wikimedia Foundation\"><span>Donate</span></a></li></ul>\n",
       "</div>\n",
       "</div>\n",
       "<div class=\"vector-menu mw-portlet mw-portlet-interaction\" id=\"p-interaction\">\n",
       "<div class=\"vector-menu-heading\">\n",
       "\t\tContribute\n",
       "\t</div>\n",
       "<div class=\"vector-menu-content\">\n",
       "<ul class=\"vector-menu-content-list\"><li class=\"mw-list-item\" id=\"n-help\"><a href=\"/wiki/Help:Contents\" title=\"Guidance on how to use and edit Wikipedia\"><span>Help</span></a></li><li class=\"mw-list-item\" id=\"n-introduction\"><a href=\"/wiki/Help:Introduction\" title=\"Learn how to edit Wikipedia\"><span>Learn to edit</span></a></li><li class=\"mw-list-item\" id=\"n-portal\"><a href=\"/wiki/Wikipedia:Community_portal\" title=\"The hub for editors\"><span>Community portal</span></a></li><li class=\"mw-list-item\" id=\"n-recentchanges\"><a accesskey=\"r\" href=\"/wiki/Special:RecentChanges\" title=\"A list of recent changes to Wikipedia [r]\"><span>Recent changes</span></a></li><li class=\"mw-list-item\" id=\"n-upload\"><a href=\"/wiki/Wikipedia:File_upload_wizard\" title=\"Add images or other media for use on Wikipedia\"><span>Upload file</span></a></li></ul>\n",
       "</div>\n",
       "</div>\n",
       "<div class=\"vector-main-menu-action vector-main-menu-action-lang-alert\">\n",
       "<div class=\"vector-main-menu-action-item\">\n",
       "<div class=\"vector-main-menu-action-heading vector-menu-heading\">Languages</div>\n",
       "<div class=\"vector-main-menu-action-content vector-menu-content\">\n",
       "<div class=\"mw-message-box-notice vector-language-sidebar-alert mw-message-box\">Language links are at the top of the page across from the title.</div>\n",
       "</div>\n",
       "</div>\n",
       "</div>\n",
       "</div>\n",
       "</div>\n",
       "</div>\n",
       "</input></div>\n",
       "</nav>\n",
       "<a class=\"mw-logo\" href=\"/wiki/Main_Page\">\n",
       "<img alt=\"\" aria-hidden=\"true\" class=\"mw-logo-icon\" height=\"50\" src=\"/static/images/icons/wikipedia.png\" width=\"50\"/>\n",
       "<span class=\"mw-logo-container\">\n",
       "<img alt=\"Wikipedia\" class=\"mw-logo-wordmark\" src=\"/static/images/mobile/copyright/wikipedia-wordmark-en.svg\" style=\"width: 7.5em; height: 1.125em;\"/>\n",
       "<img alt=\"The Free Encyclopedia\" class=\"mw-logo-tagline\" height=\"13\" src=\"/static/images/mobile/copyright/wikipedia-tagline-en.svg\" style=\"width: 7.3125em; height: 0.8125em;\" width=\"117\"/>\n",
       "</span>\n",
       "</a>\n",
       "</div>\n",
       "<div class=\"vector-header-end\">\n",
       "<div class=\"vector-search-box-vue vector-search-box-collapses vector-search-box-show-thumbnail vector-search-box-auto-expand-width vector-search-box\" id=\"p-search\" role=\"search\">\n",
       "<a accesskey=\"f\" class=\"mw-ui-button mw-ui-quiet mw-ui-icon mw-ui-icon-element mw-ui-icon-wikimedia-search search-toggle\" href=\"/wiki/Special:Search\" title=\"Search Wikipedia [f]\">\n",
       "<span>Search</span>\n",
       "</a>\n",
       "<div>\n",
       "<form action=\"/w/index.php\" class=\"vector-search-box-form\" id=\"searchform\">\n",
       "<div class=\"vector-search-box-inner\" data-search-loc=\"header-moved\" id=\"simpleSearch\">\n",
       "<input accesskey=\"f\" aria-label=\"Search Wikipedia\" autocapitalize=\"sentences\" class=\"vector-search-box-input\" id=\"searchInput\" name=\"search\" placeholder=\"Search Wikipedia\" title=\"Search Wikipedia [f]\" type=\"search\"/>\n",
       "<input name=\"title\" type=\"hidden\" value=\"Special:Search\"/>\n",
       "<input class=\"searchButton mw-fallbackSearchButton\" id=\"mw-searchButton\" name=\"fulltext\" title=\"Search Wikipedia for this text\" type=\"submit\" value=\"Search\"/>\n",
       "<input class=\"searchButton\" id=\"searchButton\" name=\"go\" title=\"Go to a page with this exact name if it exists\" type=\"submit\" value=\"Go\"/>\n",
       "</div>\n",
       "</form>\n",
       "</div>\n",
       "</div>\n",
       "<nav aria-label=\"Personal tools\" class=\"vector-user-links\" role=\"navigation\">\n",
       "<div class=\"vector-menu mw-portlet mw-portlet-vector-user-menu-overflow\" id=\"p-vector-user-menu-overflow\">\n",
       "<div class=\"vector-menu-content\">\n",
       "<ul class=\"vector-menu-content-list\"><li class=\"user-links-collapsible-item mw-list-item\" id=\"pt-createaccount-2\"><a href=\"/w/index.php?title=Special:CreateAccount&amp;returnto=Python\" title=\"You are encouraged to create an account and log in; however, it is not mandatory\"><span>Create account</span></a></li><li class=\"user-links-collapsible-item mw-list-item\" id=\"pt-login-2\"><a accesskey=\"o\" href=\"/w/index.php?title=Special:UserLogin&amp;returnto=Python\" title=\"You're encouraged to log in; however, it's not mandatory. [o]\"><span>Log in</span></a></li></ul>\n",
       "</div>\n",
       "</div>\n",
       "<div class=\"vector-menu vector-dropdown vector-menu-dropdown vector-user-menu mw-ui-icon-flush-right vector-user-menu-logged-out\" id=\"vector-user-links-dropdown\" title=\"Log in and more options\">\n",
       "<input aria-haspopup=\"true\" aria-label=\"Personal tools\" class=\"vector-menu-checkbox\" data-event-name=\"ui.dropdown-vector-user-links-dropdown\" id=\"vector-user-links-dropdown-checkbox\" role=\"button\" type=\"checkbox\">\n",
       "<label aria-hidden=\"true\" class=\"vector-menu-heading mw-checkbox-hack-button mw-ui-button mw-ui-quiet mw-ui-icon-element\" for=\"vector-user-links-dropdown-checkbox\" id=\"vector-user-links-dropdown-label\">\n",
       "<span class=\"mw-ui-icon mw-ui-icon-ellipsis mw-ui-icon-wikimedia-ellipsis\"></span>\n",
       "<span class=\"vector-menu-heading-label\">Personal tools</span>\n",
       "</label>\n",
       "<div class=\"vector-menu-content vector-dropdown-content\">\n",
       "<div class=\"vector-menu mw-portlet mw-portlet-personal user-links-collapsible-item\" id=\"p-personal\" title=\"User menu\">\n",
       "<div class=\"vector-menu-content\">\n",
       "<ul class=\"vector-menu-content-list\"><li class=\"user-links-collapsible-item mw-list-item\" id=\"pt-createaccount\"><a href=\"/w/index.php?title=Special:CreateAccount&amp;returnto=Python\" title=\"You are encouraged to create an account and log in; however, it is not mandatory\"><span class=\"mw-ui-icon mw-ui-icon-userAdd mw-ui-icon-wikimedia-userAdd\"></span> <span>Create account</span></a></li><li class=\"user-links-collapsible-item mw-list-item\" id=\"pt-login\"><a accesskey=\"o\" href=\"/w/index.php?title=Special:UserLogin&amp;returnto=Python\" title=\"You're encouraged to log in; however, it's not mandatory. [o]\"><span class=\"mw-ui-icon mw-ui-icon-logIn mw-ui-icon-wikimedia-logIn\"></span> <span>Log in</span></a></li></ul>\n",
       "</div>\n",
       "</div>\n",
       "<div class=\"vector-menu mw-portlet mw-portlet-user-menu-anon-editor\" id=\"p-user-menu-anon-editor\">\n",
       "<div class=\"vector-menu-heading\">\n",
       "\t\tPages for logged out editors <a aria-label=\"Learn more about editing\" href=\"/wiki/Help:Introduction\"><span>learn more</span></a>\n",
       "</div>\n",
       "<div class=\"vector-menu-content\">\n",
       "<ul class=\"vector-menu-content-list\"><li class=\"mw-list-item\" id=\"pt-anoncontribs\"><a accesskey=\"y\" href=\"/wiki/Special:MyContributions\" title=\"A list of edits made from this IP address [y]\"><span>Contributions</span></a></li><li class=\"mw-list-item\" id=\"pt-anontalk\"><a accesskey=\"n\" href=\"/wiki/Special:MyTalk\" title=\"Discussion about edits from this IP address [n]\"><span>Talk</span></a></li></ul>\n",
       "</div>\n",
       "</div>\n",
       "</div>\n",
       "</input></div>\n",
       "</nav>\n",
       "</div>\n",
       "</header>\n",
       "<div class=\"vector-main-menu-container\">\n",
       "<div id=\"mw-navigation\">\n",
       "<nav aria-label=\"Site\" class=\"vector-main-menu-landmark\" id=\"mw-panel\" role=\"navigation\">\n",
       "<div class=\"vector-pinned-container\" id=\"vector-main-menu-pinned-container\">\n",
       "</div>\n",
       "</nav>\n",
       "</div>\n",
       "</div>\n",
       "<div class=\"vector-sitenotice-container\">\n",
       "<div id=\"siteNotice\"><!-- CentralNotice --></div>\n",
       "</div>\n",
       "<input class=\"mw-checkbox-hack-checkbox\" id=\"vector-toc-collapsed-checkbox\" type=\"checkbox\"/>\n",
       "<nav aria-label=\"Contents\" class=\"mw-table-of-contents-container vector-toc-landmark\" data-event-name=\"ui.sidebar-toc\" id=\"mw-panel-toc\" role=\"navigation\">\n",
       "<div class=\"vector-pinned-container\" id=\"vector-toc-pinned-container\">\n",
       "<div class=\"vector-toc vector-pinnable-element\" id=\"vector-toc\">\n",
       "<div class=\"vector-pinnable-header vector-toc-pinnable-header vector-pinnable-header-pinned\" data-feature-name=\"toc-pinned\" data-pinnable-element-id=\"vector-toc\">\n",
       "<h2 class=\"vector-pinnable-header-label\">Contents</h2>\n",
       "<button class=\"vector-pinnable-header-toggle-button vector-pinnable-header-pin-button\" data-event-name=\"pinnable-header.vector-toc.pin\">move to sidebar</button>\n",
       "<button class=\"vector-pinnable-header-toggle-button vector-pinnable-header-unpin-button\" data-event-name=\"pinnable-header.vector-toc.unpin\">hide</button>\n",
       "</div>\n",
       "<ul class=\"vector-toc-contents\" id=\"mw-panel-toc-list\">\n",
       "<li class=\"vector-toc-list-item vector-toc-level-1\" id=\"toc-mw-content-text\">\n",
       "<a class=\"vector-toc-link\" href=\"#\">\n",
       "<div class=\"vector-toc-text\">(Top)</div>\n",
       "</a>\n",
       "</li>\n",
       "<li class=\"vector-toc-list-item vector-toc-level-1 vector-toc-list-item-expanded\" id=\"toc-Snakes\">\n",
       "<a class=\"vector-toc-link\" href=\"#Snakes\">\n",
       "<div class=\"vector-toc-text\">\n",
       "<span class=\"vector-toc-numb\">1</span>Snakes</div>\n",
       "</a>\n",
       "<ul class=\"vector-toc-list\" id=\"toc-Snakes-sublist\">\n",
       "</ul>\n",
       "</li>\n",
       "<li class=\"vector-toc-list-item vector-toc-level-1 vector-toc-list-item-expanded\" id=\"toc-Computing\">\n",
       "<a class=\"vector-toc-link\" href=\"#Computing\">\n",
       "<div class=\"vector-toc-text\">\n",
       "<span class=\"vector-toc-numb\">2</span>Computing</div>\n",
       "</a>\n",
       "<ul class=\"vector-toc-list\" id=\"toc-Computing-sublist\">\n",
       "</ul>\n",
       "</li>\n",
       "<li class=\"vector-toc-list-item vector-toc-level-1 vector-toc-list-item-expanded\" id=\"toc-People\">\n",
       "<a class=\"vector-toc-link\" href=\"#People\">\n",
       "<div class=\"vector-toc-text\">\n",
       "<span class=\"vector-toc-numb\">3</span>People</div>\n",
       "</a>\n",
       "<ul class=\"vector-toc-list\" id=\"toc-People-sublist\">\n",
       "</ul>\n",
       "</li>\n",
       "<li class=\"vector-toc-list-item vector-toc-level-1 vector-toc-list-item-expanded\" id=\"toc-Roller_coasters\">\n",
       "<a class=\"vector-toc-link\" href=\"#Roller_coasters\">\n",
       "<div class=\"vector-toc-text\">\n",
       "<span class=\"vector-toc-numb\">4</span>Roller coasters</div>\n",
       "</a>\n",
       "<ul class=\"vector-toc-list\" id=\"toc-Roller_coasters-sublist\">\n",
       "</ul>\n",
       "</li>\n",
       "<li class=\"vector-toc-list-item vector-toc-level-1 vector-toc-list-item-expanded\" id=\"toc-Vehicles\">\n",
       "<a class=\"vector-toc-link\" href=\"#Vehicles\">\n",
       "<div class=\"vector-toc-text\">\n",
       "<span class=\"vector-toc-numb\">5</span>Vehicles</div>\n",
       "</a>\n",
       "<ul class=\"vector-toc-list\" id=\"toc-Vehicles-sublist\">\n",
       "</ul>\n",
       "</li>\n",
       "<li class=\"vector-toc-list-item vector-toc-level-1 vector-toc-list-item-expanded\" id=\"toc-Weaponry\">\n",
       "<a class=\"vector-toc-link\" href=\"#Weaponry\">\n",
       "<div class=\"vector-toc-text\">\n",
       "<span class=\"vector-toc-numb\">6</span>Weaponry</div>\n",
       "</a>\n",
       "<ul class=\"vector-toc-list\" id=\"toc-Weaponry-sublist\">\n",
       "</ul>\n",
       "</li>\n",
       "<li class=\"vector-toc-list-item vector-toc-level-1 vector-toc-list-item-expanded\" id=\"toc-Other_uses\">\n",
       "<a class=\"vector-toc-link\" href=\"#Other_uses\">\n",
       "<div class=\"vector-toc-text\">\n",
       "<span class=\"vector-toc-numb\">7</span>Other uses</div>\n",
       "</a>\n",
       "<ul class=\"vector-toc-list\" id=\"toc-Other_uses-sublist\">\n",
       "</ul>\n",
       "</li>\n",
       "<li class=\"vector-toc-list-item vector-toc-level-1 vector-toc-list-item-expanded\" id=\"toc-See_also\">\n",
       "<a class=\"vector-toc-link\" href=\"#See_also\">\n",
       "<div class=\"vector-toc-text\">\n",
       "<span class=\"vector-toc-numb\">8</span>See also</div>\n",
       "</a>\n",
       "<ul class=\"vector-toc-list\" id=\"toc-See_also-sublist\">\n",
       "</ul>\n",
       "</li>\n",
       "</ul>\n",
       "</div>\n",
       "</div>\n",
       "</nav>\n",
       "<div class=\"mw-content-container\">\n",
       "<main class=\"mw-body\" id=\"content\" role=\"main\">\n",
       "<header class=\"mw-body-header vector-page-titlebar\">\n",
       "<label aria-controls=\"toc-toggle-list\" class=\"mw-ui-button mw-ui-quiet mw-ui-icon mw-ui-icon-flush-left mw-ui-icon-element mw-ui-icon-wikimedia-listBullet mw-checkbox-hack-button\" data-event-name=\"vector.toc-toggle-list\" for=\"vector-toc-collapsed-checkbox\" id=\"vector-toc-collapsed-button\" role=\"button\" tabindex=\"0\" title=\"Table of Contents\">\n",
       "\t\t\t\t\t\tToggle the table of contents\n",
       "\t\t\t\t\t</label>\n",
       "<nav aria-label=\"Contents\" class=\"vector-toc-landmark\" role=\"navigation\">\n",
       "<div class=\"vector-menu vector-dropdown vector-menu-dropdown vector-page-titlebar-toc mw-ui-icon-flush-left\" id=\"vector-page-titlebar-toc\">\n",
       "<input aria-haspopup=\"true\" aria-label=\"Toggle the table of contents\" class=\"vector-menu-checkbox\" data-event-name=\"ui.dropdown-vector-page-titlebar-toc\" id=\"vector-page-titlebar-toc-checkbox\" role=\"button\" type=\"checkbox\">\n",
       "<label aria-hidden=\"true\" class=\"vector-menu-heading mw-checkbox-hack-button mw-ui-button mw-ui-quiet mw-ui-icon-element\" for=\"vector-page-titlebar-toc-checkbox\" id=\"vector-page-titlebar-toc-label\">\n",
       "<span class=\"mw-ui-icon mw-ui-icon-listBullet mw-ui-icon-wikimedia-listBullet\"></span>\n",
       "<span class=\"vector-menu-heading-label\">Toggle the table of contents</span>\n",
       "</label>\n",
       "<div class=\"vector-menu-content vector-dropdown-content\">\n",
       "<div class=\"vector-unpinned-container\" id=\"vector-page-titlebar-toc-unpinned-container\">\n",
       "</div>\n",
       "</div>\n",
       "</input></div>\n",
       "</nav>\n",
       "<h1 class=\"firstHeading mw-first-heading\" id=\"firstHeading\"><span class=\"mw-page-title-main\">Python</span></h1>\n",
       "<div class=\"vector-menu vector-dropdown vector-menu-dropdown mw-portlet mw-portlet-lang\" id=\"p-lang-btn\">\n",
       "<input aria-haspopup=\"true\" aria-label=\"Go to an article in another language. Available in 45 languages\" class=\"vector-menu-checkbox mw-interlanguage-selector\" data-event-name=\"ui.dropdown-p-lang-btn\" id=\"p-lang-btn-checkbox\" role=\"button\" type=\"checkbox\">\n",
       "<label aria-hidden=\"true\" class=\"vector-menu-heading mw-ui-button mw-ui-quiet mw-ui-progressive mw-portlet-lang-heading-45\" for=\"p-lang-btn-checkbox\" id=\"p-lang-btn-label\">\n",
       "<span class=\"mw-ui-icon mw-ui-icon-language-progressive mw-ui-icon-wikimedia-language-progressive\"></span>\n",
       "<span class=\"vector-menu-heading-label\">45 languages</span>\n",
       "</label>\n",
       "<div class=\"vector-menu-content vector-dropdown-content\">\n",
       "<div class=\"vector-menu-content\">\n",
       "<ul class=\"vector-menu-content-list\"><li class=\"interlanguage-link interwiki-af mw-list-item\"><a class=\"interlanguage-link-target\" href=\"https://af.wikipedia.org/wiki/Python\" hreflang=\"af\" lang=\"af\" title=\"Python – Afrikaans\"><span>Afrikaans</span></a></li><li class=\"interlanguage-link interwiki-als mw-list-item\"><a class=\"interlanguage-link-target\" href=\"https://als.wikipedia.org/wiki/Python\" hreflang=\"gsw\" lang=\"gsw\" title=\"Python – Alemannisch\"><span>Alemannisch</span></a></li><li class=\"interlanguage-link interwiki-ar mw-list-item\"><a class=\"interlanguage-link-target\" href=\"https://ar.wikipedia.org/wiki/%D8%A8%D8%A7%D9%8A%D8%AB%D9%88%D9%86_(%D8%AA%D9%88%D8%B6%D9%8A%D8%AD)\" hreflang=\"ar\" lang=\"ar\" title=\"بايثون (توضيح) – Arabic\"><span>العربية</span></a></li><li class=\"interlanguage-link interwiki-az mw-list-item\"><a class=\"interlanguage-link-target\" href=\"https://az.wikipedia.org/wiki/Python_(d%C9%99qiql%C9%99%C5%9Fdirm%C9%99)\" hreflang=\"az\" lang=\"az\" title=\"Python (dəqiqləşdirmə) – Azerbaijani\"><span>Azərbaycanca</span></a></li><li class=\"interlanguage-link interwiki-bn mw-list-item\"><a class=\"interlanguage-link-target\" href=\"https://bn.wikipedia.org/wiki/%E0%A6%AA%E0%A6%BE%E0%A6%87%E0%A6%A5%E0%A6%A8_(%E0%A6%A6%E0%A7%8D%E0%A6%AC%E0%A7%8D%E0%A6%AF%E0%A6%B0%E0%A7%8D%E0%A6%A5%E0%A6%A4%E0%A6%BE_%E0%A6%A8%E0%A6%BF%E0%A6%B0%E0%A6%B8%E0%A6%A8)\" hreflang=\"bn\" lang=\"bn\" title=\"পাইথন (দ্ব্যর্থতা নিরসন) – Bangla\"><span>বাংলা</span></a></li><li class=\"interlanguage-link interwiki-be mw-list-item\"><a class=\"interlanguage-link-target\" href=\"https://be.wikipedia.org/wiki/Python\" hreflang=\"be\" lang=\"be\" title=\"Python – Belarusian\"><span>Беларуская</span></a></li><li class=\"interlanguage-link interwiki-bg mw-list-item\"><a class=\"interlanguage-link-target\" href=\"https://bg.wikipedia.org/wiki/%D0%9F%D0%B8%D1%82%D0%BE%D0%BD_(%D0%BF%D0%BE%D1%8F%D1%81%D0%BD%D0%B5%D0%BD%D0%B8%D0%B5)\" hreflang=\"bg\" lang=\"bg\" title=\"Питон (пояснение) – Bulgarian\"><span>Български</span></a></li><li class=\"interlanguage-link interwiki-cs mw-list-item\"><a class=\"interlanguage-link-target\" href=\"https://cs.wikipedia.org/wiki/Python_(rozcestn%C3%ADk)\" hreflang=\"cs\" lang=\"cs\" title=\"Python (rozcestník) – Czech\"><span>Čeština</span></a></li><li class=\"interlanguage-link interwiki-da mw-list-item\"><a class=\"interlanguage-link-target\" href=\"https://da.wikipedia.org/wiki/Python\" hreflang=\"da\" lang=\"da\" title=\"Python – Danish\"><span>Dansk</span></a></li><li class=\"interlanguage-link interwiki-de mw-list-item\"><a class=\"interlanguage-link-target\" href=\"https://de.wikipedia.org/wiki/Python\" hreflang=\"de\" lang=\"de\" title=\"Python – German\"><span>Deutsch</span></a></li><li class=\"interlanguage-link interwiki-eo mw-list-item\"><a class=\"interlanguage-link-target\" href=\"https://eo.wikipedia.org/wiki/Pitono_(apartigilo)\" hreflang=\"eo\" lang=\"eo\" title=\"Pitono (apartigilo) – Esperanto\"><span>Esperanto</span></a></li><li class=\"interlanguage-link interwiki-eu mw-list-item\"><a class=\"interlanguage-link-target\" href=\"https://eu.wikipedia.org/wiki/Python_(argipena)\" hreflang=\"eu\" lang=\"eu\" title=\"Python (argipena) – Basque\"><span>Euskara</span></a></li><li class=\"interlanguage-link interwiki-fa mw-list-item\"><a class=\"interlanguage-link-target\" href=\"https://fa.wikipedia.org/wiki/%D9%BE%D8%A7%DB%8C%D8%AA%D9%88%D9%86\" hreflang=\"fa\" lang=\"fa\" title=\"پایتون – Persian\"><span>فارسی</span></a></li><li class=\"interlanguage-link interwiki-fr mw-list-item\"><a class=\"interlanguage-link-target\" href=\"https://fr.wikipedia.org/wiki/Python\" hreflang=\"fr\" lang=\"fr\" title=\"Python – French\"><span>Français</span></a></li><li class=\"interlanguage-link interwiki-ko mw-list-item\"><a class=\"interlanguage-link-target\" href=\"https://ko.wikipedia.org/wiki/%ED%8C%8C%EC%9D%B4%EC%84%A0\" hreflang=\"ko\" lang=\"ko\" title=\"파이선 – Korean\"><span>한국어</span></a></li><li class=\"interlanguage-link interwiki-hr mw-list-item\"><a class=\"interlanguage-link-target\" href=\"https://hr.wikipedia.org/wiki/Python_(razdvojba)\" hreflang=\"hr\" lang=\"hr\" title=\"Python (razdvojba) – Croatian\"><span>Hrvatski</span></a></li><li class=\"interlanguage-link interwiki-io mw-list-item\"><a class=\"interlanguage-link-target\" href=\"https://io.wikipedia.org/wiki/Pitono\" hreflang=\"io\" lang=\"io\" title=\"Pitono – Ido\"><span>Ido</span></a></li><li class=\"interlanguage-link interwiki-id mw-list-item\"><a class=\"interlanguage-link-target\" href=\"https://id.wikipedia.org/wiki/Python\" hreflang=\"id\" lang=\"id\" title=\"Python – Indonesian\"><span>Bahasa Indonesia</span></a></li><li class=\"interlanguage-link interwiki-ia mw-list-item\"><a class=\"interlanguage-link-target\" href=\"https://ia.wikipedia.org/wiki/Python_(disambiguation)\" hreflang=\"ia\" lang=\"ia\" title=\"Python (disambiguation) – Interlingua\"><span>Interlingua</span></a></li><li class=\"interlanguage-link interwiki-is mw-list-item\"><a class=\"interlanguage-link-target\" href=\"https://is.wikipedia.org/wiki/Python_(a%C3%B0greining)\" hreflang=\"is\" lang=\"is\" title=\"Python (aðgreining) – Icelandic\"><span>Íslenska</span></a></li><li class=\"interlanguage-link interwiki-it mw-list-item\"><a class=\"interlanguage-link-target\" href=\"https://it.wikipedia.org/wiki/Python_(disambigua)\" hreflang=\"it\" lang=\"it\" title=\"Python (disambigua) – Italian\"><span>Italiano</span></a></li><li class=\"interlanguage-link interwiki-he mw-list-item\"><a class=\"interlanguage-link-target\" href=\"https://he.wikipedia.org/wiki/%D7%A4%D7%99%D7%AA%D7%95%D7%9F\" hreflang=\"he\" lang=\"he\" title=\"פיתון – Hebrew\"><span>עברית</span></a></li><li class=\"interlanguage-link interwiki-ka mw-list-item\"><a class=\"interlanguage-link-target\" href=\"https://ka.wikipedia.org/wiki/%E1%83%9E%E1%83%98%E1%83%97%E1%83%9D%E1%83%9C%E1%83%98_(%E1%83%9B%E1%83%A0%E1%83%90%E1%83%95%E1%83%90%E1%83%9A%E1%83%9B%E1%83%9C%E1%83%98%E1%83%A8%E1%83%95%E1%83%9C%E1%83%94%E1%83%9A%E1%83%9D%E1%83%95%E1%83%90%E1%83%9C%E1%83%98)\" hreflang=\"ka\" lang=\"ka\" title=\"პითონი (მრავალმნიშვნელოვანი) – Georgian\"><span>ქართული</span></a></li><li class=\"interlanguage-link interwiki-kg mw-list-item\"><a class=\"interlanguage-link-target\" href=\"https://kg.wikipedia.org/wiki/Mboma_(nyoka)\" hreflang=\"kg\" lang=\"kg\" title=\"Mboma (nyoka) – Kongo\"><span>Kongo</span></a></li><li class=\"interlanguage-link interwiki-la mw-list-item\"><a class=\"interlanguage-link-target\" href=\"https://la.wikipedia.org/wiki/Python_(discretiva)\" hreflang=\"la\" lang=\"la\" title=\"Python (discretiva) – Latin\"><span>Latina</span></a></li><li class=\"interlanguage-link interwiki-lb mw-list-item\"><a class=\"interlanguage-link-target\" href=\"https://lb.wikipedia.org/wiki/Python\" hreflang=\"lb\" lang=\"lb\" title=\"Python – Luxembourgish\"><span>Lëtzebuergesch</span></a></li><li class=\"interlanguage-link interwiki-hu mw-list-item\"><a class=\"interlanguage-link-target\" href=\"https://hu.wikipedia.org/wiki/Python_(egy%C3%A9rtelm%C5%B1s%C3%ADt%C5%91_lap)\" hreflang=\"hu\" lang=\"hu\" title=\"Python (egyértelműsítő lap) – Hungarian\"><span>Magyar</span></a></li><li class=\"interlanguage-link interwiki-mr mw-list-item\"><a class=\"interlanguage-link-target\" href=\"https://mr.wikipedia.org/wiki/%E0%A4%AA%E0%A4%BE%E0%A4%AF%E0%A4%A5%E0%A5%89%E0%A4%A8_(%E0%A4%86%E0%A4%9C%E0%A5%8D%E0%A4%9E%E0%A4%BE%E0%A4%B5%E0%A4%B2%E0%A5%80_%E0%A4%AD%E0%A4%BE%E0%A4%B7%E0%A4%BE)\" hreflang=\"mr\" lang=\"mr\" title=\"पायथॉन (आज्ञावली भाषा) – Marathi\"><span>मराठी</span></a></li><li class=\"interlanguage-link interwiki-nl mw-list-item\"><a class=\"interlanguage-link-target\" href=\"https://nl.wikipedia.org/wiki/Python\" hreflang=\"nl\" lang=\"nl\" title=\"Python – Dutch\"><span>Nederlands</span></a></li><li class=\"interlanguage-link interwiki-ja mw-list-item\"><a class=\"interlanguage-link-target\" href=\"https://ja.wikipedia.org/wiki/%E3%83%91%E3%82%A4%E3%82%BD%E3%83%B3\" hreflang=\"ja\" lang=\"ja\" title=\"パイソン – Japanese\"><span>日本語</span></a></li><li class=\"interlanguage-link interwiki-no mw-list-item\"><a class=\"interlanguage-link-target\" href=\"https://no.wikipedia.org/wiki/Pyton\" hreflang=\"nb\" lang=\"nb\" title=\"Pyton – Norwegian Bokmål\"><span>Norsk bokmål</span></a></li><li class=\"interlanguage-link interwiki-pl mw-list-item\"><a class=\"interlanguage-link-target\" href=\"https://pl.wikipedia.org/wiki/Pyton\" hreflang=\"pl\" lang=\"pl\" title=\"Pyton – Polish\"><span>Polski</span></a></li><li class=\"interlanguage-link interwiki-pt mw-list-item\"><a class=\"interlanguage-link-target\" href=\"https://pt.wikipedia.org/wiki/Python_(desambigua%C3%A7%C3%A3o)\" hreflang=\"pt\" lang=\"pt\" title=\"Python (desambiguação) – Portuguese\"><span>Português</span></a></li><li class=\"interlanguage-link interwiki-ru mw-list-item\"><a class=\"interlanguage-link-target\" href=\"https://ru.wikipedia.org/wiki/Python_(%D0%B7%D0%BD%D0%B0%D1%87%D0%B5%D0%BD%D0%B8%D1%8F)\" hreflang=\"ru\" lang=\"ru\" title=\"Python (значения) – Russian\"><span>Русский</span></a></li><li class=\"interlanguage-link interwiki-sk mw-list-item\"><a class=\"interlanguage-link-target\" href=\"https://sk.wikipedia.org/wiki/Python\" hreflang=\"sk\" lang=\"sk\" title=\"Python – Slovak\"><span>Slovenčina</span></a></li><li class=\"interlanguage-link interwiki-sr mw-list-item\"><a class=\"interlanguage-link-target\" href=\"https://sr.wikipedia.org/wiki/%D0%9F%D0%B8%D1%82%D0%BE%D0%BD_(%D0%B2%D0%B8%D1%88%D0%B5%D0%B7%D0%BD%D0%B0%D1%87%D0%BD%D0%B0_%D0%BE%D0%B4%D1%80%D0%B5%D0%B4%D0%BD%D0%B8%D1%86%D0%B0)\" hreflang=\"sr\" lang=\"sr\" title=\"Питон (вишезначна одредница) – Serbian\"><span>Српски / srpski</span></a></li><li class=\"interlanguage-link interwiki-sh mw-list-item\"><a class=\"interlanguage-link-target\" href=\"https://sh.wikipedia.org/wiki/Python\" hreflang=\"sh\" lang=\"sh\" title=\"Python – Serbo-Croatian\"><span>Srpskohrvatski / српскохрватски</span></a></li><li class=\"interlanguage-link interwiki-fi mw-list-item\"><a class=\"interlanguage-link-target\" href=\"https://fi.wikipedia.org/wiki/Python\" hreflang=\"fi\" lang=\"fi\" title=\"Python – Finnish\"><span>Suomi</span></a></li><li class=\"interlanguage-link interwiki-sv mw-list-item\"><a class=\"interlanguage-link-target\" href=\"https://sv.wikipedia.org/wiki/Pyton\" hreflang=\"sv\" lang=\"sv\" title=\"Pyton – Swedish\"><span>Svenska</span></a></li><li class=\"interlanguage-link interwiki-th mw-list-item\"><a class=\"interlanguage-link-target\" href=\"https://th.wikipedia.org/wiki/%E0%B9%84%E0%B8%9E%E0%B8%97%E0%B8%AD%E0%B8%99\" hreflang=\"th\" lang=\"th\" title=\"ไพทอน – Thai\"><span>ไทย</span></a></li><li class=\"interlanguage-link interwiki-tr mw-list-item\"><a class=\"interlanguage-link-target\" href=\"https://tr.wikipedia.org/wiki/Python_(anlam_ayr%C4%B1m%C4%B1)\" hreflang=\"tr\" lang=\"tr\" title=\"Python (anlam ayrımı) – Turkish\"><span>Türkçe</span></a></li><li class=\"interlanguage-link interwiki-uk mw-list-item\"><a class=\"interlanguage-link-target\" href=\"https://uk.wikipedia.org/wiki/%D0%9F%D1%96%D1%84%D0%BE%D0%BD\" hreflang=\"uk\" lang=\"uk\" title=\"Піфон – Ukrainian\"><span>Українська</span></a></li><li class=\"interlanguage-link interwiki-ur mw-list-item\"><a class=\"interlanguage-link-target\" href=\"https://ur.wikipedia.org/wiki/%D9%BE%D8%A7%D8%A6%DB%8C%D8%AA%DA%BE%D9%88%D9%86\" hreflang=\"ur\" lang=\"ur\" title=\"پائیتھون – Urdu\"><span>اردو</span></a></li><li class=\"interlanguage-link interwiki-vi mw-list-item\"><a class=\"interlanguage-link-target\" href=\"https://vi.wikipedia.org/wiki/Python\" hreflang=\"vi\" lang=\"vi\" title=\"Python – Vietnamese\"><span>Tiếng Việt</span></a></li><li class=\"interlanguage-link interwiki-zh mw-list-item\"><a class=\"interlanguage-link-target\" href=\"https://zh.wikipedia.org/wiki/Python_(%E6%B6%88%E6%AD%A7%E4%B9%89)\" hreflang=\"zh\" lang=\"zh\" title=\"Python (消歧义) – Chinese\"><span>中文</span></a></li></ul>\n",
       "<div class=\"after-portlet after-portlet-lang\"><span class=\"wb-langlinks-edit wb-langlinks-link\"><a class=\"wbc-editpage\" href=\"https://www.wikidata.org/wiki/Special:EntityPage/Q747452#sitelinks-wikipedia\" title=\"Edit interlanguage links\">Edit links</a></span></div>\n",
       "</div>\n",
       "</div>\n",
       "</input></div>\n",
       "</header>\n",
       "<div class=\"vector-page-toolbar\">\n",
       "<div class=\"vector-page-toolbar-container\">\n",
       "<div id=\"left-navigation\">\n",
       "<nav aria-label=\"Namespaces\">\n",
       "<div class=\"vector-menu vector-menu-tabs mw-portlet mw-portlet-associated-pages\" id=\"p-associated-pages\">\n",
       "<div class=\"vector-menu-content\">\n",
       "<ul class=\"vector-menu-content-list\">\n",
       "<li class=\"selected vector-tab-noicon mw-list-item\" id=\"ca-nstab-main\"><a accesskey=\"c\" class=\"\" data-mw=\"interface\" href=\"/wiki/Python\" title=\"View the content page [c]\"><span>Article</span></a>\n",
       "</li>\n",
       "<li class=\"vector-tab-noicon mw-list-item\" id=\"ca-talk\"><a accesskey=\"t\" class=\"\" data-mw=\"interface\" href=\"/wiki/Talk:Python\" rel=\"discussion\" title=\"Discuss improvements to the content page [t]\"><span>Talk</span></a>\n",
       "</li>\n",
       "</ul>\n",
       "</div>\n",
       "</div>\n",
       "<div class=\"vector-menu vector-dropdown vector-menu-dropdown mw-portlet mw-portlet-variants emptyPortlet\" id=\"p-variants\">\n",
       "<input aria-haspopup=\"true\" aria-label=\"Change language variant\" class=\"vector-menu-checkbox\" data-event-name=\"ui.dropdown-p-variants\" id=\"p-variants-checkbox\" role=\"button\" type=\"checkbox\">\n",
       "<label aria-hidden=\"true\" class=\"vector-menu-heading\" for=\"p-variants-checkbox\" id=\"p-variants-label\">\n",
       "<span class=\"vector-menu-heading-label\">English</span>\n",
       "</label>\n",
       "<div class=\"vector-menu-content vector-dropdown-content\">\n",
       "<div class=\"vector-menu-content\">\n",
       "<ul class=\"vector-menu-content-list\"></ul>\n",
       "</div>\n",
       "</div>\n",
       "</input></div>\n",
       "</nav>\n",
       "</div>\n",
       "<div class=\"vector-collapsible\" id=\"right-navigation\">\n",
       "<nav aria-label=\"Views\">\n",
       "<div class=\"vector-menu vector-menu-tabs mw-portlet mw-portlet-views\" id=\"p-views\">\n",
       "<div class=\"vector-menu-content\">\n",
       "<ul class=\"vector-menu-content-list\">\n",
       "<li class=\"selected vector-tab-noicon mw-list-item\" id=\"ca-view\"><a class=\"\" data-mw=\"interface\" href=\"/wiki/Python\"><span>Read</span></a>\n",
       "</li>\n",
       "<li class=\"vector-tab-noicon mw-list-item\" id=\"ca-edit\"><a accesskey=\"e\" class=\"\" data-mw=\"interface\" href=\"/w/index.php?title=Python&amp;action=edit\" title=\"Edit this page [e]\"><span>Edit</span></a>\n",
       "</li>\n",
       "<li class=\"vector-tab-noicon mw-list-item\" id=\"ca-history\"><a accesskey=\"h\" class=\"\" data-mw=\"interface\" href=\"/w/index.php?title=Python&amp;action=history\" title=\"Past revisions of this page [h]\"><span>View history</span></a>\n",
       "</li>\n",
       "</ul>\n",
       "</div>\n",
       "</div>\n",
       "</nav>\n",
       "<nav aria-label=\"More options\" class=\"vector-page-tools-landmark\">\n",
       "<div class=\"vector-menu vector-dropdown vector-menu-dropdown vector-page-tools-dropdown\" id=\"vector-page-tools-dropdown\">\n",
       "<input aria-haspopup=\"true\" aria-label=\"Tools\" class=\"vector-menu-checkbox\" data-event-name=\"ui.dropdown-vector-page-tools-dropdown\" id=\"vector-page-tools-dropdown-checkbox\" role=\"button\" type=\"checkbox\">\n",
       "<label aria-hidden=\"true\" class=\"vector-menu-heading\" for=\"vector-page-tools-dropdown-checkbox\" id=\"vector-page-tools-dropdown-label\">\n",
       "<span class=\"vector-menu-heading-label\">Tools</span>\n",
       "</label>\n",
       "<div class=\"vector-menu-content vector-dropdown-content\">\n",
       "<div class=\"vector-unpinned-container\" id=\"vector-page-tools-unpinned-container\">\n",
       "<div class=\"vector-page-tools vector-pinnable-element\" id=\"vector-page-tools\">\n",
       "<div class=\"vector-pinnable-header vector-page-tools-pinnable-header vector-pinnable-header-unpinned\" data-feature-name=\"page-tools-pinned\" data-pinnable-element-id=\"vector-page-tools\" data-pinned-container-id=\"vector-page-tools-pinned-container\" data-unpinned-container-id=\"vector-page-tools-unpinned-container\">\n",
       "<div class=\"vector-pinnable-header-label\">Tools</div>\n",
       "<button class=\"vector-pinnable-header-toggle-button vector-pinnable-header-pin-button\" data-event-name=\"pinnable-header.vector-page-tools.pin\">move to sidebar</button>\n",
       "<button class=\"vector-pinnable-header-toggle-button vector-pinnable-header-unpin-button\" data-event-name=\"pinnable-header.vector-page-tools.unpin\">hide</button>\n",
       "</div>\n",
       "<div class=\"vector-menu mw-portlet mw-portlet-cactions emptyPortlet vector-has-collapsible-items\" id=\"p-cactions\" title=\"More options\">\n",
       "<div class=\"vector-menu-heading\">\n",
       "\t\tActions\n",
       "\t</div>\n",
       "<div class=\"vector-menu-content\">\n",
       "<ul class=\"vector-menu-content-list\"><li class=\"selected vector-more-collapsible-item mw-list-item\" id=\"ca-more-view\"><a href=\"/wiki/Python\"><span>Read</span></a></li><li class=\"vector-more-collapsible-item mw-list-item\" id=\"ca-more-edit\"><a href=\"/w/index.php?title=Python&amp;action=edit\"><span>Edit</span></a></li><li class=\"vector-more-collapsible-item mw-list-item\" id=\"ca-more-history\"><a href=\"/w/index.php?title=Python&amp;action=history\"><span>View history</span></a></li></ul>\n",
       "</div>\n",
       "</div>\n",
       "<div class=\"vector-menu mw-portlet mw-portlet-tb\" id=\"p-tb\">\n",
       "<div class=\"vector-menu-heading\">\n",
       "\t\tGeneral\n",
       "\t</div>\n",
       "<div class=\"vector-menu-content\">\n",
       "<ul class=\"vector-menu-content-list\"><li class=\"mw-list-item\" id=\"t-whatlinkshere\"><a accesskey=\"j\" href=\"/wiki/Special:WhatLinksHere/Python\" title=\"List of all English Wikipedia pages containing links to this page [j]\"><span>What links here</span></a></li><li class=\"mw-list-item\" id=\"t-recentchangeslinked\"><a accesskey=\"k\" href=\"/wiki/Special:RecentChangesLinked/Python\" rel=\"nofollow\" title=\"Recent changes in pages linked from this page [k]\"><span>Related changes</span></a></li><li class=\"mw-list-item\" id=\"t-upload\"><a accesskey=\"u\" href=\"/wiki/Wikipedia:File_Upload_Wizard\" title=\"Upload files [u]\"><span>Upload file</span></a></li><li class=\"mw-list-item\" id=\"t-specialpages\"><a accesskey=\"q\" href=\"/wiki/Special:SpecialPages\" title=\"A list of all special pages [q]\"><span>Special pages</span></a></li><li class=\"mw-list-item\" id=\"t-permalink\"><a href=\"/w/index.php?title=Python&amp;oldid=1143380376\" title=\"Permanent link to this revision of this page\"><span>Permanent link</span></a></li><li class=\"mw-list-item\" id=\"t-info\"><a href=\"/w/index.php?title=Python&amp;action=info\" title=\"More information about this page\"><span>Page information</span></a></li><li class=\"mw-list-item\" id=\"t-cite\"><a href=\"/w/index.php?title=Special:CiteThisPage&amp;page=Python&amp;id=1143380376&amp;wpFormIdentifier=titleform\" title=\"Information on how to cite this page\"><span>Cite this page</span></a></li><li class=\"mw-list-item\" id=\"t-wikibase\"><a accesskey=\"g\" href=\"https://www.wikidata.org/wiki/Special:EntityPage/Q747452\" title=\"Structured data on this page hosted by Wikidata [g]\"><span>Wikidata item</span></a></li></ul>\n",
       "</div>\n",
       "</div>\n",
       "<div class=\"vector-menu mw-portlet mw-portlet-coll-print_export\" id=\"p-coll-print_export\">\n",
       "<div class=\"vector-menu-heading\">\n",
       "\t\tPrint/export\n",
       "\t</div>\n",
       "<div class=\"vector-menu-content\">\n",
       "<ul class=\"vector-menu-content-list\"><li class=\"mw-list-item\" id=\"coll-download-as-rl\"><a href=\"/w/index.php?title=Special:DownloadAsPdf&amp;page=Python&amp;action=show-download-screen\" title=\"Download this page as a PDF file\"><span>Download as PDF</span></a></li><li class=\"mw-list-item\" id=\"t-print\"><a accesskey=\"p\" href=\"/w/index.php?title=Python&amp;printable=yes\" title=\"Printable version of this page [p]\"><span>Printable version</span></a></li></ul>\n",
       "</div>\n",
       "</div>\n",
       "<div class=\"vector-menu mw-portlet mw-portlet-wikibase-otherprojects\" id=\"p-wikibase-otherprojects\">\n",
       "<div class=\"vector-menu-heading\">\n",
       "\t\tIn other projects\n",
       "\t</div>\n",
       "<div class=\"vector-menu-content\">\n",
       "<ul class=\"vector-menu-content-list\"><li class=\"wb-otherproject-link wb-otherproject-commons mw-list-item\"><a href=\"https://commons.wikimedia.org/wiki/Category:Python\" hreflang=\"en\"><span>Wikimedia Commons</span></a></li></ul>\n",
       "</div>\n",
       "</div>\n",
       "</div>\n",
       "</div>\n",
       "</div>\n",
       "</input></div>\n",
       "</nav>\n",
       "</div>\n",
       "</div>\n",
       "</div>\n",
       "<div class=\"vector-column-end\">\n",
       "<nav aria-label=\"More options\" class=\"vector-page-tools-landmark\">\n",
       "<div class=\"vector-pinned-container\" id=\"vector-page-tools-pinned-container\">\n",
       "</div>\n",
       "</nav>\n",
       "</div>\n",
       "<div aria-labelledby=\"firstHeading\" class=\"vector-body\" data-mw-ve-target-container=\"\" id=\"bodyContent\">\n",
       "<div class=\"vector-body-before-content\">\n",
       "<div class=\"mw-indicators\">\n",
       "</div>\n",
       "<div class=\"noprint\" id=\"siteSub\">From Wikipedia, the free encyclopedia</div>\n",
       "</div>\n",
       "<div id=\"contentSub\"><div id=\"mw-content-subtitle\"></div></div>\n",
       "<div class=\"mw-body-content mw-content-ltr\" dir=\"ltr\" id=\"mw-content-text\" lang=\"en\"><div class=\"mw-parser-output\"><style data-mw-deduplicate=\"TemplateStyles:r1134653256\">.mw-parser-output .side-box{margin:4px 0;box-sizing:border-box;border:1px solid #aaa;font-size:88%;line-height:1.25em;background-color:#f9f9f9;display:flow-root}.mw-parser-output .side-box-abovebelow,.mw-parser-output .side-box-text{padding:0.25em 0.9em}.mw-parser-output .side-box-image{padding:2px 0 2px 0.9em;text-align:center}.mw-parser-output .side-box-imageright{padding:2px 0.9em 2px 0;text-align:center}@media(min-width:500px){.mw-parser-output .side-box-flex{display:flex;align-items:center}.mw-parser-output .side-box-text{flex:1}}@media(min-width:720px){.mw-parser-output .side-box{width:238px}.mw-parser-output .side-box-right{clear:right;float:right;margin-left:1em}.mw-parser-output .side-box-left{margin-right:1em}}</style><div class=\"side-box side-box-right plainlinks sistersitebox\"><style data-mw-deduplicate=\"TemplateStyles:r1126788409\">.mw-parser-output .plainlist ol,.mw-parser-output .plainlist ul{line-height:inherit;list-style:none;margin:0;padding:0}.mw-parser-output .plainlist ol li,.mw-parser-output .plainlist ul li{margin-bottom:0}</style>\n",
       "<div class=\"side-box-flex\">\n",
       "<div class=\"side-box-image\"><img alt=\"\" class=\"noviewer\" data-file-height=\"512\" data-file-width=\"512\" decoding=\"async\" height=\"40\" src=\"//upload.wikimedia.org/wikipedia/commons/thumb/9/99/Wiktionary-logo-en-v2.svg/40px-Wiktionary-logo-en-v2.svg.png\" srcset=\"//upload.wikimedia.org/wikipedia/commons/thumb/9/99/Wiktionary-logo-en-v2.svg/60px-Wiktionary-logo-en-v2.svg.png 1.5x, //upload.wikimedia.org/wikipedia/commons/thumb/9/99/Wiktionary-logo-en-v2.svg/80px-Wiktionary-logo-en-v2.svg.png 2x\" width=\"40\"/></div>\n",
       "<div class=\"side-box-text plainlist\">Look up <i><b><a class=\"extiw\" href=\"https://en.wiktionary.org/wiki/Python\" title=\"wiktionary:Python\">Python</a></b></i> or <i><b><a class=\"extiw\" href=\"https://en.wiktionary.org/wiki/python\" title=\"wiktionary:python\">python</a></b></i> in Wiktionary, the free dictionary.</div></div>\n",
       "</div>\n",
       "<p><b>Python</b> may refer to:\n",
       "</p>\n",
       "<style data-mw-deduplicate=\"TemplateStyles:r1044870489\">@media all and (max-width:720px){body.skin-minerva .mw-parser-output .tocright{display:none}.mw-parser-output .tocright{width:100%!important}}@media all and (min-width:720px){.mw-parser-output .tocright{float:right;clear:right;width:auto;margin:0 0 0.5em 1em}.mw-parser-output .tocright-clear-left{clear:left}.mw-parser-output .tocright-clear-both{clear:both}.mw-parser-output .tocright-clear-none{clear:none}}</style><div class=\"tocright\"><meta property=\"mw:PageProp/toc\"/></div>\n",
       "<h2><span class=\"mw-headline\" id=\"Snakes\">Snakes</span><span class=\"mw-editsection\"><span class=\"mw-editsection-bracket\">[</span><a href=\"/w/index.php?title=Python&amp;action=edit&amp;section=1\" title=\"Edit section: Snakes\">edit</a><span class=\"mw-editsection-bracket\">]</span></span></h2>\n",
       "<ul><li><a href=\"/wiki/Pythonidae\" title=\"Pythonidae\">Pythonidae</a>, a family of nonvenomous snakes found in Africa, Asia, and Australia\n",
       "<ul><li><a href=\"/wiki/Python_(genus)\" title=\"Python (genus)\"><i>Python</i> (genus)</a>, a genus of Pythonidae found in Africa and Asia</li></ul></li>\n",
       "<li><a href=\"/wiki/Python_(mythology)\" title=\"Python (mythology)\">Python (mythology)</a>, a mythical serpent</li></ul>\n",
       "<h2><span class=\"mw-headline\" id=\"Computing\">Computing</span><span class=\"mw-editsection\"><span class=\"mw-editsection-bracket\">[</span><a href=\"/w/index.php?title=Python&amp;action=edit&amp;section=2\" title=\"Edit section: Computing\">edit</a><span class=\"mw-editsection-bracket\">]</span></span></h2>\n",
       "<ul><li><a href=\"/wiki/Python_(programming_language)\" title=\"Python (programming language)\">Python (programming language)</a>, a widely used programming language</li>\n",
       "<li>Python, a native code compiler for <a href=\"/wiki/CMU_Common_Lisp\" title=\"CMU Common Lisp\">CMU Common Lisp</a></li>\n",
       "<li>Python, the internal project name for the <a href=\"/wiki/PERQ#PERQ_3\" title=\"PERQ\">PERQ 3</a> computer workstation</li></ul>\n",
       "<h2><span class=\"mw-headline\" id=\"People\">People</span><span class=\"mw-editsection\"><span class=\"mw-editsection-bracket\">[</span><a href=\"/w/index.php?title=Python&amp;action=edit&amp;section=3\" title=\"Edit section: People\">edit</a><span class=\"mw-editsection-bracket\">]</span></span></h2>\n",
       "<ul><li><a href=\"/wiki/Python_of_Aenus\" title=\"Python of Aenus\">Python of Aenus</a> (4th-century BCE), student of Plato</li>\n",
       "<li><a href=\"/wiki/Python_(painter)\" title=\"Python (painter)\">Python (painter)</a>, (ca. 360–320 BCE) vase painter in Poseidonia</li>\n",
       "<li><a href=\"/wiki/Python_of_Byzantium\" title=\"Python of Byzantium\">Python of Byzantium</a>, orator, diplomat of Philip II of Macedon</li>\n",
       "<li><a href=\"/wiki/Python_of_Catana\" title=\"Python of Catana\">Python of Catana</a>, poet who accompanied Alexander the Great</li>\n",
       "<li><a href=\"/wiki/Python_Anghelo\" title=\"Python Anghelo\">Python Anghelo</a> (1954–2014) Romanian graphic artist</li></ul>\n",
       "<h2><span class=\"mw-headline\" id=\"Roller_coasters\">Roller coasters</span><span class=\"mw-editsection\"><span class=\"mw-editsection-bracket\">[</span><a href=\"/w/index.php?title=Python&amp;action=edit&amp;section=4\" title=\"Edit section: Roller coasters\">edit</a><span class=\"mw-editsection-bracket\">]</span></span></h2>\n",
       "<ul><li><a href=\"/wiki/Python_(Efteling)\" title=\"Python (Efteling)\">Python (Efteling)</a>, a roller coaster in the Netherlands</li>\n",
       "<li><a href=\"/wiki/Python_(Busch_Gardens_Tampa_Bay)\" title=\"Python (Busch Gardens Tampa Bay)\">Python (Busch Gardens Tampa Bay)</a>, a defunct roller coaster</li>\n",
       "<li><a href=\"/wiki/Python_(Coney_Island,_Cincinnati,_Ohio)\" title=\"Python (Coney Island, Cincinnati, Ohio)\">Python (Coney Island, Cincinnati, Ohio)</a>, a steel roller coaster</li></ul>\n",
       "<h2><span class=\"mw-headline\" id=\"Vehicles\">Vehicles</span><span class=\"mw-editsection\"><span class=\"mw-editsection-bracket\">[</span><a href=\"/w/index.php?title=Python&amp;action=edit&amp;section=5\" title=\"Edit section: Vehicles\">edit</a><span class=\"mw-editsection-bracket\">]</span></span></h2>\n",
       "<ul><li><a href=\"/wiki/Python_(automobile_maker)\" title=\"Python (automobile maker)\">Python (automobile maker)</a>, an Australian car company</li>\n",
       "<li><a href=\"/wiki/Python_(Ford_prototype)\" title=\"Python (Ford prototype)\">Python (Ford prototype)</a>, a Ford prototype sports car</li></ul>\n",
       "<h2><span class=\"mw-headline\" id=\"Weaponry\">Weaponry</span><span class=\"mw-editsection\"><span class=\"mw-editsection-bracket\">[</span><a href=\"/w/index.php?title=Python&amp;action=edit&amp;section=6\" title=\"Edit section: Weaponry\">edit</a><span class=\"mw-editsection-bracket\">]</span></span></h2>\n",
       "<ul><li><a href=\"/wiki/Python_(missile)\" title=\"Python (missile)\">Python (missile)</a>, a series of Israeli air-to-air missiles</li>\n",
       "<li><a href=\"/wiki/Python_(nuclear_primary)\" title=\"Python (nuclear primary)\">Python (nuclear primary)</a>, a gas-boosted fission primary used in thermonuclear weapons</li>\n",
       "<li><a href=\"/wiki/Colt_Python\" title=\"Colt Python\">Colt Python</a>, a revolver</li></ul>\n",
       "<h2><span class=\"mw-headline\" id=\"Other_uses\">Other uses</span><span class=\"mw-editsection\"><span class=\"mw-editsection-bracket\">[</span><a href=\"/w/index.php?title=Python&amp;action=edit&amp;section=7\" title=\"Edit section: Other uses\">edit</a><span class=\"mw-editsection-bracket\">]</span></span></h2>\n",
       "<ul><li><a href=\"/wiki/Python_(codename)\" title=\"Python (codename)\">Python (codename)</a>, a British nuclear war contingency plan</li>\n",
       "<li><a href=\"/wiki/Python_(film)\" title=\"Python (film)\"><i>Python</i> (film)</a>, a 2000 horror film by Richard Clabaugh</li>\n",
       "<li><a href=\"/wiki/Monty_Python\" title=\"Monty Python\">Monty Python</a> or the Pythons, a British comedy group\n",
       "<ul><li><a href=\"/wiki/Python_(Monty)_Pictures\" title=\"Python (Monty) Pictures\">Python (Monty) Pictures</a>, a company owned by the troupe's surviving members</li></ul></li>\n",
       "<li><i>Python</i>, a work written by philosopher <a href=\"/wiki/Timon_of_Phlius\" title=\"Timon of Phlius\">Timon of Phlius</a></li></ul>\n",
       "<h2><span class=\"mw-headline\" id=\"See_also\">See also</span><span class=\"mw-editsection\"><span class=\"mw-editsection-bracket\">[</span><a href=\"/w/index.php?title=Python&amp;action=edit&amp;section=8\" title=\"Edit section: See also\">edit</a><span class=\"mw-editsection-bracket\">]</span></span></h2>\n",
       "<ul><li><i><a href=\"/wiki/Pyton\" title=\"Pyton\">Pyton</a></i>, a Norwegian magazine</li>\n",
       "<li><a href=\"/wiki/Pithon\" title=\"Pithon\">Pithon</a>, a commune in northern France</li></ul>\n",
       "<div class=\"shortdescription nomobile noexcerpt noprint searchaux\" style=\"display:none\">Topics referred to by the same term</div>\n",
       "<style data-mw-deduplicate=\"TemplateStyles:r1097304697\">.mw-parser-output .dmbox{display:flex;align-items:center;clear:both;margin:0.9em 1em;border-top:1px solid #ccc;border-bottom:1px solid #ccc;padding:0.25em 0.35em;font-style:italic}.mw-parser-output .dmbox>*{flex-shrink:0;margin:0 0.25em}.mw-parser-output .dmbox-body{flex-grow:1;flex-shrink:1;padding:0.1em 0}.mw-parser-output .dmbox-invalid-type{text-align:center}</style>\n",
       "<div class=\"metadata plainlinks dmbox dmbox-disambig\" id=\"disambigbox\" role=\"note\"><a class=\"image\" href=\"/wiki/File:Disambig_gray.svg\"><img alt=\"Disambiguation icon\" data-file-height=\"168\" data-file-width=\"220\" decoding=\"async\" height=\"23\" src=\"//upload.wikimedia.org/wikipedia/en/thumb/5/5f/Disambig_gray.svg/30px-Disambig_gray.svg.png\" srcset=\"//upload.wikimedia.org/wikipedia/en/thumb/5/5f/Disambig_gray.svg/45px-Disambig_gray.svg.png 1.5x, //upload.wikimedia.org/wikipedia/en/thumb/5/5f/Disambig_gray.svg/60px-Disambig_gray.svg.png 2x\" width=\"30\"/></a><div class=\"dmbox-body\">This <a href=\"/wiki/Help:Disambiguation\" title=\"Help:Disambiguation\">disambiguation</a> page lists  articles associated with the title <b>Python</b>.<br/><small>If an <a class=\"external text\" href=\"https://en.wikipedia.org/w/index.php?title=Special:WhatLinksHere/Python&amp;namespace=0\">internal link</a> led you here, you may wish to change the link to point directly to the intended article.</small></div>\n",
       "</div>\n",
       "<!-- \n",
       "NewPP limit report\n",
       "Parsed by mw2295\n",
       "Cached time: 20230307110311\n",
       "Cache expiry: 1814400\n",
       "Reduced expiry: false\n",
       "Complications: [show‐toc, no‐toc‐conversion]\n",
       "CPU time usage: 0.106 seconds\n",
       "Real time usage: 0.150 seconds\n",
       "Preprocessor visited node count: 1370/1000000\n",
       "Post‐expand include size: 6422/2097152 bytes\n",
       "Template argument size: 1395/2097152 bytes\n",
       "Highest expansion depth: 13/100\n",
       "Expensive parser function count: 1/500\n",
       "Unstrip recursion depth: 0/20\n",
       "Unstrip post‐expand size: 2134/5000000 bytes\n",
       "Lua time usage: 0.040/10.000 seconds\n",
       "Lua memory usage: 1439504/52428800 bytes\n",
       "Number of Wikibase entities loaded: 0/400\n",
       "-->\n",
       "<!--\n",
       "Transclusion expansion time report (%,ms,calls,template)\n",
       "100.00%  130.772      1 -total\n",
       " 66.40%   86.833      1 Template:Disambiguation\n",
       " 32.09%   41.964      1 Template:Dmbox\n",
       " 27.46%   35.906      1 Template:Wiktionary\n",
       " 26.14%   34.189      1 Template:Sister_project\n",
       " 24.65%   32.230      1 Template:Side_box\n",
       " 21.43%   28.024      1 Template:Disambiguation_page_short_description\n",
       " 20.42%   26.709      1 Template:Short_description\n",
       " 18.40%   24.067      4 Template:Main_other\n",
       " 11.88%   15.538      1 Template:Category_handler\n",
       "-->\n",
       "<!-- Saved in parser cache with key enwiki:pcache:idhash:46332325-0!canonical and timestamp 20230307110311 and revision id 1143380376. Rendering was triggered because: edit-page\n",
       " -->\n",
       "</div><!--esi <esi:include src=\"/esitest-fa8a495983347898/content\" /> --><noscript><img alt=\"\" height=\"1\" src=\"//en.wikipedia.org/wiki/Special:CentralAutoLogin/start?type=1x1\" style=\"border: none; position: absolute;\" title=\"\" width=\"1\"/></noscript>\n",
       "<div class=\"printfooter\" data-nosnippet=\"\">Retrieved from \"<a dir=\"ltr\" href=\"https://en.wikipedia.org/w/index.php?title=Python&amp;oldid=1143380376\">https://en.wikipedia.org/w/index.php?title=Python&amp;oldid=1143380376</a>\"</div></div>\n",
       "<div class=\"catlinks\" data-mw=\"interface\" id=\"catlinks\"><div class=\"mw-normal-catlinks\" id=\"mw-normal-catlinks\"><a href=\"/wiki/Help:Category\" title=\"Help:Category\">Categories</a>: <ul><li><a href=\"/wiki/Category:Disambiguation_pages\" title=\"Category:Disambiguation pages\">Disambiguation pages</a></li><li><a href=\"/wiki/Category:Human_name_disambiguation_pages\" title=\"Category:Human name disambiguation pages\">Human name disambiguation pages</a></li><li><a href=\"/wiki/Category:Disambiguation_pages_with_given-name-holder_lists\" title=\"Category:Disambiguation pages with given-name-holder lists\">Disambiguation pages with given-name-holder lists</a></li></ul></div><div class=\"mw-hidden-catlinks mw-hidden-cats-hidden\" id=\"mw-hidden-catlinks\">Hidden categories: <ul><li><a href=\"/wiki/Category:Short_description_is_different_from_Wikidata\" title=\"Category:Short description is different from Wikidata\">Short description is different from Wikidata</a></li><li><a href=\"/wiki/Category:All_article_disambiguation_pages\" title=\"Category:All article disambiguation pages\">All article disambiguation pages</a></li><li><a href=\"/wiki/Category:All_disambiguation_pages\" title=\"Category:All disambiguation pages\">All disambiguation pages</a></li><li><a href=\"/wiki/Category:Animal_common_name_disambiguation_pages\" title=\"Category:Animal common name disambiguation pages\">Animal common name disambiguation pages</a></li></ul></div></div>\n",
       "</div>\n",
       "</main>\n",
       "</div>\n",
       "<div class=\"mw-footer-container\">\n",
       "<footer class=\"mw-footer\" id=\"footer\" role=\"contentinfo\">\n",
       "<ul id=\"footer-info\">\n",
       "<li id=\"footer-info-lastmod\"> This page was last edited on 7 March 2023, at 11:03<span class=\"anonymous-show\"> (UTC)</span>.</li>\n",
       "<li id=\"footer-info-copyright\">Text is available under the <a href=\"//en.wikipedia.org/wiki/Wikipedia:Text_of_the_Creative_Commons_Attribution-ShareAlike_3.0_Unported_License\" rel=\"license\">Creative Commons Attribution-ShareAlike License 3.0</a><a href=\"//creativecommons.org/licenses/by-sa/3.0/\" rel=\"license\" style=\"display:none;\"></a>;\n",
       "additional terms may apply.  By using this site, you agree to the <a href=\"//foundation.wikimedia.org/wiki/Terms_of_Use\">Terms of Use</a> and <a href=\"//foundation.wikimedia.org/wiki/Privacy_policy\">Privacy Policy</a>. Wikipedia® is a registered trademark of the <a href=\"//www.wikimediafoundation.org/\">Wikimedia Foundation, Inc.</a>, a non-profit organization.</li>\n",
       "</ul>\n",
       "<ul id=\"footer-places\">\n",
       "<li id=\"footer-places-privacy\"><a href=\"https://foundation.wikimedia.org/wiki/Privacy_policy\">Privacy policy</a></li>\n",
       "<li id=\"footer-places-about\"><a href=\"/wiki/Wikipedia:About\">About Wikipedia</a></li>\n",
       "<li id=\"footer-places-disclaimers\"><a href=\"/wiki/Wikipedia:General_disclaimer\">Disclaimers</a></li>\n",
       "<li id=\"footer-places-contact\"><a href=\"//en.wikipedia.org/wiki/Wikipedia:Contact_us\">Contact Wikipedia</a></li>\n",
       "<li id=\"footer-places-mobileview\"><a class=\"noprint stopMobileRedirectToggle\" href=\"//en.m.wikipedia.org/w/index.php?title=Python&amp;mobileaction=toggle_view_mobile\">Mobile view</a></li>\n",
       "<li id=\"footer-places-developers\"><a href=\"https://developer.wikimedia.org\">Developers</a></li>\n",
       "<li id=\"footer-places-statslink\"><a href=\"https://stats.wikimedia.org/#/en.wikipedia.org\">Statistics</a></li>\n",
       "<li id=\"footer-places-cookiestatement\"><a href=\"https://foundation.wikimedia.org/wiki/Cookie_statement\">Cookie statement</a></li>\n",
       "</ul>\n",
       "<ul class=\"noprint\" id=\"footer-icons\">\n",
       "<li id=\"footer-copyrightico\"><a href=\"https://wikimediafoundation.org/\"><img alt=\"Wikimedia Foundation\" height=\"31\" loading=\"lazy\" src=\"/static/images/footer/wikimedia-button.png\" srcset=\"/static/images/footer/wikimedia-button-1.5x.png 1.5x, /static/images/footer/wikimedia-button-2x.png 2x\" width=\"88\"/></a></li>\n",
       "<li id=\"footer-poweredbyico\"><a href=\"https://www.mediawiki.org/\"><img alt=\"Powered by MediaWiki\" height=\"31\" loading=\"lazy\" src=\"/static/images/footer/poweredby_mediawiki_88x31.png\" srcset=\"/static/images/footer/poweredby_mediawiki_132x47.png 1.5x, /static/images/footer/poweredby_mediawiki_176x62.png 2x\" width=\"88\"/></a></li>\n",
       "</ul>\n",
       "</footer>\n",
       "</div>\n",
       "</div>\n",
       "</div>\n",
       "<script>(RLQ=window.RLQ||[]).push(function(){mw.config.set({\"wgHostname\":\"mw1395\",\"wgBackendResponseTime\":110,\"wgPageParseReport\":{\"limitreport\":{\"cputime\":\"0.106\",\"walltime\":\"0.150\",\"ppvisitednodes\":{\"value\":1370,\"limit\":1000000},\"postexpandincludesize\":{\"value\":6422,\"limit\":2097152},\"templateargumentsize\":{\"value\":1395,\"limit\":2097152},\"expansiondepth\":{\"value\":13,\"limit\":100},\"expensivefunctioncount\":{\"value\":1,\"limit\":500},\"unstrip-depth\":{\"value\":0,\"limit\":20},\"unstrip-size\":{\"value\":2134,\"limit\":5000000},\"entityaccesscount\":{\"value\":0,\"limit\":400},\"timingprofile\":[\"100.00%  130.772      1 -total\",\" 66.40%   86.833      1 Template:Disambiguation\",\" 32.09%   41.964      1 Template:Dmbox\",\" 27.46%   35.906      1 Template:Wiktionary\",\" 26.14%   34.189      1 Template:Sister_project\",\" 24.65%   32.230      1 Template:Side_box\",\" 21.43%   28.024      1 Template:Disambiguation_page_short_description\",\" 20.42%   26.709      1 Template:Short_description\",\" 18.40%   24.067      4 Template:Main_other\",\" 11.88%   15.538      1 Template:Category_handler\"]},\"scribunto\":{\"limitreport-timeusage\":{\"value\":\"0.040\",\"limit\":\"10.000\"},\"limitreport-memusage\":{\"value\":1439504,\"limit\":52428800}},\"cachereport\":{\"origin\":\"mw2295\",\"timestamp\":\"20230307110311\",\"ttl\":1814400,\"transientcontent\":false}}});});</script>\n",
       "<script type=\"application/ld+json\">{\"@context\":\"https:\\/\\/schema.org\",\"@type\":\"Article\",\"name\":\"Python\",\"url\":\"https:\\/\\/en.wikipedia.org\\/wiki\\/Python\",\"sameAs\":\"http:\\/\\/www.wikidata.org\\/entity\\/Q747452\",\"mainEntity\":\"http:\\/\\/www.wikidata.org\\/entity\\/Q747452\",\"author\":{\"@type\":\"Organization\",\"name\":\"Contributors to Wikimedia projects\"},\"publisher\":{\"@type\":\"Organization\",\"name\":\"Wikimedia Foundation, Inc.\",\"logo\":{\"@type\":\"ImageObject\",\"url\":\"https:\\/\\/www.wikimedia.org\\/static\\/images\\/wmf-hor-googpub.png\"}},\"datePublished\":\"2004-05-11T17:28:52Z\",\"dateModified\":\"2023-03-07T11:03:11Z\",\"headline\":\"Wikimedia disambiguation page\"}</script><script type=\"application/ld+json\">{\"@context\":\"https:\\/\\/schema.org\",\"@type\":\"Article\",\"name\":\"Python\",\"url\":\"https:\\/\\/en.wikipedia.org\\/wiki\\/Python\",\"sameAs\":\"http:\\/\\/www.wikidata.org\\/entity\\/Q747452\",\"mainEntity\":\"http:\\/\\/www.wikidata.org\\/entity\\/Q747452\",\"author\":{\"@type\":\"Organization\",\"name\":\"Contributors to Wikimedia projects\"},\"publisher\":{\"@type\":\"Organization\",\"name\":\"Wikimedia Foundation, Inc.\",\"logo\":{\"@type\":\"ImageObject\",\"url\":\"https:\\/\\/www.wikimedia.org\\/static\\/images\\/wmf-hor-googpub.png\"}},\"datePublished\":\"2004-05-11T17:28:52Z\",\"dateModified\":\"2023-03-07T11:03:11Z\",\"headline\":\"Wikimedia disambiguation page\"}</script>\n",
       "</body>\n",
       "</html>"
      ]
     },
     "execution_count": 5,
     "metadata": {},
     "output_type": "execute_result"
    }
   ],
   "source": [
    "soup"
   ]
  },
  {
   "cell_type": "code",
   "execution_count": 6,
   "metadata": {},
   "outputs": [
    {
     "data": {
      "text/plain": [
       "[<div aria-labelledby=\"firstHeading\" class=\"vector-body\" data-mw-ve-target-container=\"\" id=\"bodyContent\">\n",
       " <div class=\"vector-body-before-content\">\n",
       " <div class=\"mw-indicators\">\n",
       " </div>\n",
       " <div class=\"noprint\" id=\"siteSub\">From Wikipedia, the free encyclopedia</div>\n",
       " </div>\n",
       " <div id=\"contentSub\"><div id=\"mw-content-subtitle\"></div></div>\n",
       " <div class=\"mw-body-content mw-content-ltr\" dir=\"ltr\" id=\"mw-content-text\" lang=\"en\"><div class=\"mw-parser-output\"><style data-mw-deduplicate=\"TemplateStyles:r1134653256\">.mw-parser-output .side-box{margin:4px 0;box-sizing:border-box;border:1px solid #aaa;font-size:88%;line-height:1.25em;background-color:#f9f9f9;display:flow-root}.mw-parser-output .side-box-abovebelow,.mw-parser-output .side-box-text{padding:0.25em 0.9em}.mw-parser-output .side-box-image{padding:2px 0 2px 0.9em;text-align:center}.mw-parser-output .side-box-imageright{padding:2px 0.9em 2px 0;text-align:center}@media(min-width:500px){.mw-parser-output .side-box-flex{display:flex;align-items:center}.mw-parser-output .side-box-text{flex:1}}@media(min-width:720px){.mw-parser-output .side-box{width:238px}.mw-parser-output .side-box-right{clear:right;float:right;margin-left:1em}.mw-parser-output .side-box-left{margin-right:1em}}</style><div class=\"side-box side-box-right plainlinks sistersitebox\"><style data-mw-deduplicate=\"TemplateStyles:r1126788409\">.mw-parser-output .plainlist ol,.mw-parser-output .plainlist ul{line-height:inherit;list-style:none;margin:0;padding:0}.mw-parser-output .plainlist ol li,.mw-parser-output .plainlist ul li{margin-bottom:0}</style>\n",
       " <div class=\"side-box-flex\">\n",
       " <div class=\"side-box-image\"><img alt=\"\" class=\"noviewer\" data-file-height=\"512\" data-file-width=\"512\" decoding=\"async\" height=\"40\" src=\"//upload.wikimedia.org/wikipedia/commons/thumb/9/99/Wiktionary-logo-en-v2.svg/40px-Wiktionary-logo-en-v2.svg.png\" srcset=\"//upload.wikimedia.org/wikipedia/commons/thumb/9/99/Wiktionary-logo-en-v2.svg/60px-Wiktionary-logo-en-v2.svg.png 1.5x, //upload.wikimedia.org/wikipedia/commons/thumb/9/99/Wiktionary-logo-en-v2.svg/80px-Wiktionary-logo-en-v2.svg.png 2x\" width=\"40\"/></div>\n",
       " <div class=\"side-box-text plainlist\">Look up <i><b><a class=\"extiw\" href=\"https://en.wiktionary.org/wiki/Python\" title=\"wiktionary:Python\">Python</a></b></i> or <i><b><a class=\"extiw\" href=\"https://en.wiktionary.org/wiki/python\" title=\"wiktionary:python\">python</a></b></i> in Wiktionary, the free dictionary.</div></div>\n",
       " </div>\n",
       " <p><b>Python</b> may refer to:\n",
       " </p>\n",
       " <style data-mw-deduplicate=\"TemplateStyles:r1044870489\">@media all and (max-width:720px){body.skin-minerva .mw-parser-output .tocright{display:none}.mw-parser-output .tocright{width:100%!important}}@media all and (min-width:720px){.mw-parser-output .tocright{float:right;clear:right;width:auto;margin:0 0 0.5em 1em}.mw-parser-output .tocright-clear-left{clear:left}.mw-parser-output .tocright-clear-both{clear:both}.mw-parser-output .tocright-clear-none{clear:none}}</style><div class=\"tocright\"><meta property=\"mw:PageProp/toc\"/></div>\n",
       " <h2><span class=\"mw-headline\" id=\"Snakes\">Snakes</span><span class=\"mw-editsection\"><span class=\"mw-editsection-bracket\">[</span><a href=\"/w/index.php?title=Python&amp;action=edit&amp;section=1\" title=\"Edit section: Snakes\">edit</a><span class=\"mw-editsection-bracket\">]</span></span></h2>\n",
       " <ul><li><a href=\"/wiki/Pythonidae\" title=\"Pythonidae\">Pythonidae</a>, a family of nonvenomous snakes found in Africa, Asia, and Australia\n",
       " <ul><li><a href=\"/wiki/Python_(genus)\" title=\"Python (genus)\"><i>Python</i> (genus)</a>, a genus of Pythonidae found in Africa and Asia</li></ul></li>\n",
       " <li><a href=\"/wiki/Python_(mythology)\" title=\"Python (mythology)\">Python (mythology)</a>, a mythical serpent</li></ul>\n",
       " <h2><span class=\"mw-headline\" id=\"Computing\">Computing</span><span class=\"mw-editsection\"><span class=\"mw-editsection-bracket\">[</span><a href=\"/w/index.php?title=Python&amp;action=edit&amp;section=2\" title=\"Edit section: Computing\">edit</a><span class=\"mw-editsection-bracket\">]</span></span></h2>\n",
       " <ul><li><a href=\"/wiki/Python_(programming_language)\" title=\"Python (programming language)\">Python (programming language)</a>, a widely used programming language</li>\n",
       " <li>Python, a native code compiler for <a href=\"/wiki/CMU_Common_Lisp\" title=\"CMU Common Lisp\">CMU Common Lisp</a></li>\n",
       " <li>Python, the internal project name for the <a href=\"/wiki/PERQ#PERQ_3\" title=\"PERQ\">PERQ 3</a> computer workstation</li></ul>\n",
       " <h2><span class=\"mw-headline\" id=\"People\">People</span><span class=\"mw-editsection\"><span class=\"mw-editsection-bracket\">[</span><a href=\"/w/index.php?title=Python&amp;action=edit&amp;section=3\" title=\"Edit section: People\">edit</a><span class=\"mw-editsection-bracket\">]</span></span></h2>\n",
       " <ul><li><a href=\"/wiki/Python_of_Aenus\" title=\"Python of Aenus\">Python of Aenus</a> (4th-century BCE), student of Plato</li>\n",
       " <li><a href=\"/wiki/Python_(painter)\" title=\"Python (painter)\">Python (painter)</a>, (ca. 360–320 BCE) vase painter in Poseidonia</li>\n",
       " <li><a href=\"/wiki/Python_of_Byzantium\" title=\"Python of Byzantium\">Python of Byzantium</a>, orator, diplomat of Philip II of Macedon</li>\n",
       " <li><a href=\"/wiki/Python_of_Catana\" title=\"Python of Catana\">Python of Catana</a>, poet who accompanied Alexander the Great</li>\n",
       " <li><a href=\"/wiki/Python_Anghelo\" title=\"Python Anghelo\">Python Anghelo</a> (1954–2014) Romanian graphic artist</li></ul>\n",
       " <h2><span class=\"mw-headline\" id=\"Roller_coasters\">Roller coasters</span><span class=\"mw-editsection\"><span class=\"mw-editsection-bracket\">[</span><a href=\"/w/index.php?title=Python&amp;action=edit&amp;section=4\" title=\"Edit section: Roller coasters\">edit</a><span class=\"mw-editsection-bracket\">]</span></span></h2>\n",
       " <ul><li><a href=\"/wiki/Python_(Efteling)\" title=\"Python (Efteling)\">Python (Efteling)</a>, a roller coaster in the Netherlands</li>\n",
       " <li><a href=\"/wiki/Python_(Busch_Gardens_Tampa_Bay)\" title=\"Python (Busch Gardens Tampa Bay)\">Python (Busch Gardens Tampa Bay)</a>, a defunct roller coaster</li>\n",
       " <li><a href=\"/wiki/Python_(Coney_Island,_Cincinnati,_Ohio)\" title=\"Python (Coney Island, Cincinnati, Ohio)\">Python (Coney Island, Cincinnati, Ohio)</a>, a steel roller coaster</li></ul>\n",
       " <h2><span class=\"mw-headline\" id=\"Vehicles\">Vehicles</span><span class=\"mw-editsection\"><span class=\"mw-editsection-bracket\">[</span><a href=\"/w/index.php?title=Python&amp;action=edit&amp;section=5\" title=\"Edit section: Vehicles\">edit</a><span class=\"mw-editsection-bracket\">]</span></span></h2>\n",
       " <ul><li><a href=\"/wiki/Python_(automobile_maker)\" title=\"Python (automobile maker)\">Python (automobile maker)</a>, an Australian car company</li>\n",
       " <li><a href=\"/wiki/Python_(Ford_prototype)\" title=\"Python (Ford prototype)\">Python (Ford prototype)</a>, a Ford prototype sports car</li></ul>\n",
       " <h2><span class=\"mw-headline\" id=\"Weaponry\">Weaponry</span><span class=\"mw-editsection\"><span class=\"mw-editsection-bracket\">[</span><a href=\"/w/index.php?title=Python&amp;action=edit&amp;section=6\" title=\"Edit section: Weaponry\">edit</a><span class=\"mw-editsection-bracket\">]</span></span></h2>\n",
       " <ul><li><a href=\"/wiki/Python_(missile)\" title=\"Python (missile)\">Python (missile)</a>, a series of Israeli air-to-air missiles</li>\n",
       " <li><a href=\"/wiki/Python_(nuclear_primary)\" title=\"Python (nuclear primary)\">Python (nuclear primary)</a>, a gas-boosted fission primary used in thermonuclear weapons</li>\n",
       " <li><a href=\"/wiki/Colt_Python\" title=\"Colt Python\">Colt Python</a>, a revolver</li></ul>\n",
       " <h2><span class=\"mw-headline\" id=\"Other_uses\">Other uses</span><span class=\"mw-editsection\"><span class=\"mw-editsection-bracket\">[</span><a href=\"/w/index.php?title=Python&amp;action=edit&amp;section=7\" title=\"Edit section: Other uses\">edit</a><span class=\"mw-editsection-bracket\">]</span></span></h2>\n",
       " <ul><li><a href=\"/wiki/Python_(codename)\" title=\"Python (codename)\">Python (codename)</a>, a British nuclear war contingency plan</li>\n",
       " <li><a href=\"/wiki/Python_(film)\" title=\"Python (film)\"><i>Python</i> (film)</a>, a 2000 horror film by Richard Clabaugh</li>\n",
       " <li><a href=\"/wiki/Monty_Python\" title=\"Monty Python\">Monty Python</a> or the Pythons, a British comedy group\n",
       " <ul><li><a href=\"/wiki/Python_(Monty)_Pictures\" title=\"Python (Monty) Pictures\">Python (Monty) Pictures</a>, a company owned by the troupe's surviving members</li></ul></li>\n",
       " <li><i>Python</i>, a work written by philosopher <a href=\"/wiki/Timon_of_Phlius\" title=\"Timon of Phlius\">Timon of Phlius</a></li></ul>\n",
       " <h2><span class=\"mw-headline\" id=\"See_also\">See also</span><span class=\"mw-editsection\"><span class=\"mw-editsection-bracket\">[</span><a href=\"/w/index.php?title=Python&amp;action=edit&amp;section=8\" title=\"Edit section: See also\">edit</a><span class=\"mw-editsection-bracket\">]</span></span></h2>\n",
       " <ul><li><i><a href=\"/wiki/Pyton\" title=\"Pyton\">Pyton</a></i>, a Norwegian magazine</li>\n",
       " <li><a href=\"/wiki/Pithon\" title=\"Pithon\">Pithon</a>, a commune in northern France</li></ul>\n",
       " <div class=\"shortdescription nomobile noexcerpt noprint searchaux\" style=\"display:none\">Topics referred to by the same term</div>\n",
       " <style data-mw-deduplicate=\"TemplateStyles:r1097304697\">.mw-parser-output .dmbox{display:flex;align-items:center;clear:both;margin:0.9em 1em;border-top:1px solid #ccc;border-bottom:1px solid #ccc;padding:0.25em 0.35em;font-style:italic}.mw-parser-output .dmbox>*{flex-shrink:0;margin:0 0.25em}.mw-parser-output .dmbox-body{flex-grow:1;flex-shrink:1;padding:0.1em 0}.mw-parser-output .dmbox-invalid-type{text-align:center}</style>\n",
       " <div class=\"metadata plainlinks dmbox dmbox-disambig\" id=\"disambigbox\" role=\"note\"><a class=\"image\" href=\"/wiki/File:Disambig_gray.svg\"><img alt=\"Disambiguation icon\" data-file-height=\"168\" data-file-width=\"220\" decoding=\"async\" height=\"23\" src=\"//upload.wikimedia.org/wikipedia/en/thumb/5/5f/Disambig_gray.svg/30px-Disambig_gray.svg.png\" srcset=\"//upload.wikimedia.org/wikipedia/en/thumb/5/5f/Disambig_gray.svg/45px-Disambig_gray.svg.png 1.5x, //upload.wikimedia.org/wikipedia/en/thumb/5/5f/Disambig_gray.svg/60px-Disambig_gray.svg.png 2x\" width=\"30\"/></a><div class=\"dmbox-body\">This <a href=\"/wiki/Help:Disambiguation\" title=\"Help:Disambiguation\">disambiguation</a> page lists  articles associated with the title <b>Python</b>.<br/><small>If an <a class=\"external text\" href=\"https://en.wikipedia.org/w/index.php?title=Special:WhatLinksHere/Python&amp;namespace=0\">internal link</a> led you here, you may wish to change the link to point directly to the intended article.</small></div>\n",
       " </div>\n",
       " <!-- \n",
       " NewPP limit report\n",
       " Parsed by mw2295\n",
       " Cached time: 20230307110311\n",
       " Cache expiry: 1814400\n",
       " Reduced expiry: false\n",
       " Complications: [show‐toc, no‐toc‐conversion]\n",
       " CPU time usage: 0.106 seconds\n",
       " Real time usage: 0.150 seconds\n",
       " Preprocessor visited node count: 1370/1000000\n",
       " Post‐expand include size: 6422/2097152 bytes\n",
       " Template argument size: 1395/2097152 bytes\n",
       " Highest expansion depth: 13/100\n",
       " Expensive parser function count: 1/500\n",
       " Unstrip recursion depth: 0/20\n",
       " Unstrip post‐expand size: 2134/5000000 bytes\n",
       " Lua time usage: 0.040/10.000 seconds\n",
       " Lua memory usage: 1439504/52428800 bytes\n",
       " Number of Wikibase entities loaded: 0/400\n",
       " -->\n",
       " <!--\n",
       " Transclusion expansion time report (%,ms,calls,template)\n",
       " 100.00%  130.772      1 -total\n",
       "  66.40%   86.833      1 Template:Disambiguation\n",
       "  32.09%   41.964      1 Template:Dmbox\n",
       "  27.46%   35.906      1 Template:Wiktionary\n",
       "  26.14%   34.189      1 Template:Sister_project\n",
       "  24.65%   32.230      1 Template:Side_box\n",
       "  21.43%   28.024      1 Template:Disambiguation_page_short_description\n",
       "  20.42%   26.709      1 Template:Short_description\n",
       "  18.40%   24.067      4 Template:Main_other\n",
       "  11.88%   15.538      1 Template:Category_handler\n",
       " -->\n",
       " <!-- Saved in parser cache with key enwiki:pcache:idhash:46332325-0!canonical and timestamp 20230307110311 and revision id 1143380376. Rendering was triggered because: edit-page\n",
       "  -->\n",
       " </div><!--esi <esi:include src=\"/esitest-fa8a495983347898/content\" /> --><noscript><img alt=\"\" height=\"1\" src=\"//en.wikipedia.org/wiki/Special:CentralAutoLogin/start?type=1x1\" style=\"border: none; position: absolute;\" title=\"\" width=\"1\"/></noscript>\n",
       " <div class=\"printfooter\" data-nosnippet=\"\">Retrieved from \"<a dir=\"ltr\" href=\"https://en.wikipedia.org/w/index.php?title=Python&amp;oldid=1143380376\">https://en.wikipedia.org/w/index.php?title=Python&amp;oldid=1143380376</a>\"</div></div>\n",
       " <div class=\"catlinks\" data-mw=\"interface\" id=\"catlinks\"><div class=\"mw-normal-catlinks\" id=\"mw-normal-catlinks\"><a href=\"/wiki/Help:Category\" title=\"Help:Category\">Categories</a>: <ul><li><a href=\"/wiki/Category:Disambiguation_pages\" title=\"Category:Disambiguation pages\">Disambiguation pages</a></li><li><a href=\"/wiki/Category:Human_name_disambiguation_pages\" title=\"Category:Human name disambiguation pages\">Human name disambiguation pages</a></li><li><a href=\"/wiki/Category:Disambiguation_pages_with_given-name-holder_lists\" title=\"Category:Disambiguation pages with given-name-holder lists\">Disambiguation pages with given-name-holder lists</a></li></ul></div><div class=\"mw-hidden-catlinks mw-hidden-cats-hidden\" id=\"mw-hidden-catlinks\">Hidden categories: <ul><li><a href=\"/wiki/Category:Short_description_is_different_from_Wikidata\" title=\"Category:Short description is different from Wikidata\">Short description is different from Wikidata</a></li><li><a href=\"/wiki/Category:All_article_disambiguation_pages\" title=\"Category:All article disambiguation pages\">All article disambiguation pages</a></li><li><a href=\"/wiki/Category:All_disambiguation_pages\" title=\"Category:All disambiguation pages\">All disambiguation pages</a></li><li><a href=\"/wiki/Category:Animal_common_name_disambiguation_pages\" title=\"Category:Animal common name disambiguation pages\">Animal common name disambiguation pages</a></li></ul></div></div>\n",
       " </div>]"
      ]
     },
     "execution_count": 6,
     "metadata": {},
     "output_type": "execute_result"
    }
   ],
   "source": [
    "soup.select(\"#bodyContent\")"
   ]
  },
  {
   "cell_type": "code",
   "execution_count": 7,
   "metadata": {},
   "outputs": [],
   "source": [
    "linklist =[]\n",
    "num_iter = len(soup.select(\"#mw-content-text > div.mw-parser-output\")[0].find_all('a',href=True))\n",
    "for i in range(num_iter):\n",
    "    link = soup.select(\"#mw-content-text > div.mw-parser-output\")[0].find_all('a',href=True)[i]\n",
    "    linklist.append(link['href'])\n"
   ]
  },
  {
   "cell_type": "code",
   "execution_count": 8,
   "metadata": {},
   "outputs": [
    {
     "data": {
      "text/plain": [
       "39"
      ]
     },
     "execution_count": 8,
     "metadata": {},
     "output_type": "execute_result"
    }
   ],
   "source": [
    "len(soup.select(\"#mw-content-text > div.mw-parser-output\")[0].find_all('a',href=True))"
   ]
  },
  {
   "cell_type": "code",
   "execution_count": 9,
   "metadata": {},
   "outputs": [
    {
     "data": {
      "text/plain": [
       "['https://en.wiktionary.org/wiki/Python',\n",
       " 'https://en.wiktionary.org/wiki/python',\n",
       " '/w/index.php?title=Python&action=edit&section=1',\n",
       " '/wiki/Pythonidae',\n",
       " '/wiki/Python_(genus)',\n",
       " '/wiki/Python_(mythology)',\n",
       " '/w/index.php?title=Python&action=edit&section=2',\n",
       " '/wiki/Python_(programming_language)',\n",
       " '/wiki/CMU_Common_Lisp',\n",
       " '/wiki/PERQ#PERQ_3',\n",
       " '/w/index.php?title=Python&action=edit&section=3',\n",
       " '/wiki/Python_of_Aenus',\n",
       " '/wiki/Python_(painter)',\n",
       " '/wiki/Python_of_Byzantium',\n",
       " '/wiki/Python_of_Catana',\n",
       " '/wiki/Python_Anghelo',\n",
       " '/w/index.php?title=Python&action=edit&section=4',\n",
       " '/wiki/Python_(Efteling)',\n",
       " '/wiki/Python_(Busch_Gardens_Tampa_Bay)',\n",
       " '/wiki/Python_(Coney_Island,_Cincinnati,_Ohio)',\n",
       " '/w/index.php?title=Python&action=edit&section=5',\n",
       " '/wiki/Python_(automobile_maker)',\n",
       " '/wiki/Python_(Ford_prototype)',\n",
       " '/w/index.php?title=Python&action=edit&section=6',\n",
       " '/wiki/Python_(missile)',\n",
       " '/wiki/Python_(nuclear_primary)',\n",
       " '/wiki/Colt_Python',\n",
       " '/w/index.php?title=Python&action=edit&section=7',\n",
       " '/wiki/Python_(codename)',\n",
       " '/wiki/Python_(film)',\n",
       " '/wiki/Monty_Python',\n",
       " '/wiki/Python_(Monty)_Pictures',\n",
       " '/wiki/Timon_of_Phlius',\n",
       " '/w/index.php?title=Python&action=edit&section=8',\n",
       " '/wiki/Pyton',\n",
       " '/wiki/Pithon',\n",
       " '/wiki/File:Disambig_gray.svg',\n",
       " '/wiki/Help:Disambiguation',\n",
       " 'https://en.wikipedia.org/w/index.php?title=Special:WhatLinksHere/Python&namespace=0']"
      ]
     },
     "execution_count": 9,
     "metadata": {},
     "output_type": "execute_result"
    }
   ],
   "source": [
    "linklist"
   ]
  },
  {
   "cell_type": "markdown",
   "metadata": {},
   "source": [
    "## 2. Create a Python list with the top ten FBI's Most Wanted names\n"
   ]
  },
  {
   "cell_type": "code",
   "execution_count": 10,
   "metadata": {},
   "outputs": [],
   "source": [
    "url2 = 'https://www.fbi.gov/wanted/topten'"
   ]
  },
  {
   "cell_type": "code",
   "execution_count": 11,
   "metadata": {},
   "outputs": [
    {
     "data": {
      "text/plain": [
       "200"
      ]
     },
     "execution_count": 11,
     "metadata": {},
     "output_type": "execute_result"
    }
   ],
   "source": [
    "response2 = requests.get(url2)\n",
    "response2.status_code"
   ]
  },
  {
   "cell_type": "code",
   "execution_count": 12,
   "metadata": {},
   "outputs": [],
   "source": [
    "soup2 = BeautifulSoup(response2.content, \"html.parser\")"
   ]
  },
  {
   "cell_type": "code",
   "execution_count": 13,
   "metadata": {},
   "outputs": [
    {
     "ename": "SyntaxError",
     "evalue": "invalid syntax (<ipython-input-13-899293a2cedf>, line 1)",
     "output_type": "error",
     "traceback": [
      "\u001b[0;36m  File \u001b[0;32m\"<ipython-input-13-899293a2cedf>\"\u001b[0;36m, line \u001b[0;32m1\u001b[0m\n\u001b[0;31m    query-results-0f737222c5054a81a120bce207b0446a > ul > li:nth-child(1) > h3 > a\u001b[0m\n\u001b[0m                   ^\u001b[0m\n\u001b[0;31mSyntaxError\u001b[0m\u001b[0;31m:\u001b[0m invalid syntax\n"
     ]
    }
   ],
   "source": [
    "#query-results-0f737222c5054a81a120bce207b0446a > ul > li:nth-child(1) > h3 > a"
   ]
  },
  {
   "cell_type": "code",
   "execution_count": 14,
   "metadata": {},
   "outputs": [
    {
     "data": {
      "text/plain": [
       "'OMAR ALEXANDER CARDENAS'"
      ]
     },
     "execution_count": 14,
     "metadata": {},
     "output_type": "execute_result"
    }
   ],
   "source": [
    "soup2.select(\" h3 > a\")[0].get_text()"
   ]
  },
  {
   "cell_type": "code",
   "execution_count": 15,
   "metadata": {},
   "outputs": [
    {
     "name": "stdout",
     "output_type": "stream",
     "text": [
      "['OMAR ALEXANDER CARDENAS', 'ALEXIS FLORES', 'BHADRESHKUMAR CHETANBHAI PATEL', 'ALEJANDRO ROSALES CASTILLO', 'YULAN ADONAY ARCHAGA CARIAS', 'RUJA IGNATOVA', 'ARNOLDO JIMENEZ', 'MICHAEL JAMES PRATT', 'JOSE RODOLFO VILLARREAL-HERNANDEZ', 'RAFAEL CARO-QUINTERO']\n"
     ]
    }
   ],
   "source": [
    "names=[]\n",
    "num_iter = len(soup2.select(\" h3 > a\"))\n",
    "namelist = soup2.select(\" h3 > a\")\n",
    "for i in range(num_iter):\n",
    "    names.append(namelist[i].get_text())\n",
    "print(names)"
   ]
  },
  {
   "cell_type": "markdown",
   "metadata": {},
   "source": [
    "## 3. A list with the different kind of datasets available in data.gov.uk"
   ]
  },
  {
   "cell_type": "code",
   "execution_count": 16,
   "metadata": {},
   "outputs": [],
   "source": [
    "url3 ='https://www.data.gov.uk/'"
   ]
  },
  {
   "cell_type": "code",
   "execution_count": 36,
   "metadata": {},
   "outputs": [
    {
     "data": {
      "text/plain": [
       "200"
      ]
     },
     "execution_count": 36,
     "metadata": {},
     "output_type": "execute_result"
    }
   ],
   "source": [
    "response3 = requests.get(url3)\n",
    "response3.status_code"
   ]
  },
  {
   "cell_type": "code",
   "execution_count": 37,
   "metadata": {},
   "outputs": [],
   "source": [
    "soup3 = BeautifulSoup(response3.content, \"html.parser\")"
   ]
  },
  {
   "cell_type": "code",
   "execution_count": null,
   "metadata": {},
   "outputs": [],
   "source": [
    "#main-content > div:nth-child(3) > div > ul > li:nth-child(1) > h3\n",
    "#main-content > div:nth-child(3) > div > ul > li:nth-child(1) > h3 > a"
   ]
  },
  {
   "cell_type": "code",
   "execution_count": 39,
   "metadata": {},
   "outputs": [
    {
     "data": {
      "text/plain": [
       "[<a class=\"govuk-link\" href=\"/search?filters%5Btopic%5D=Business+and+economy\">Business and economy</a>,\n",
       " <a class=\"govuk-link\" href=\"/search?filters%5Btopic%5D=Crime+and+justice\">Crime and justice</a>,\n",
       " <a class=\"govuk-link\" href=\"/search?filters%5Btopic%5D=Defence\">Defence</a>,\n",
       " <a class=\"govuk-link\" href=\"/search?filters%5Btopic%5D=Education\">Education</a>,\n",
       " <a class=\"govuk-link\" href=\"/search?filters%5Btopic%5D=Environment\">Environment</a>,\n",
       " <a class=\"govuk-link\" href=\"/search?filters%5Btopic%5D=Government\">Government</a>,\n",
       " <a class=\"govuk-link\" href=\"/search?filters%5Btopic%5D=Government+spending\">Government spending</a>,\n",
       " <a class=\"govuk-link\" href=\"/search?filters%5Btopic%5D=Health\">Health</a>,\n",
       " <a class=\"govuk-link\" href=\"/search?filters%5Btopic%5D=Mapping\">Mapping</a>,\n",
       " <a class=\"govuk-link\" href=\"/search?filters%5Btopic%5D=Society\">Society</a>,\n",
       " <a class=\"govuk-link\" href=\"/search?filters%5Btopic%5D=Towns+and+cities\">Towns and cities</a>,\n",
       " <a class=\"govuk-link\" href=\"/search?filters%5Btopic%5D=Transport\">Transport</a>,\n",
       " <a class=\"govuk-link\" href=\"/search?filters%5Btopic%5D=Digital+service+performance\">Digital service performance</a>,\n",
       " <a class=\"govuk-link\" href=\"/search?filters%5Btopic%5D=Government+reference+data\">Government reference data</a>]"
      ]
     },
     "execution_count": 39,
     "metadata": {},
     "output_type": "execute_result"
    }
   ],
   "source": [
    "soup3.select(\"h3 > a\")"
   ]
  },
  {
   "cell_type": "code",
   "execution_count": 40,
   "metadata": {},
   "outputs": [
    {
     "data": {
      "text/plain": [
       "[<a class=\"govuk-link\" href=\"/cookies\">cookies to collect information</a>,\n",
       " <a class=\"govuk-link\" href=\"/cookies\">View cookies</a>,\n",
       " <a class=\"govuk-link\" data-module=\"gem-track-click\" data-track-action=\"Cookie banner settings clicked from confirmation\" data-track-category=\"cookieBanner\" href=\"/cookies\">change your cookie settings</a>,\n",
       " <a class=\"govuk-link\" href=\"http://www.smartsurvey.co.uk/s/3SEXD/\">feedback</a>,\n",
       " <a class=\"govuk-link\" href=\"/search?filters%5Btopic%5D=Business+and+economy\">Business and economy</a>,\n",
       " <a class=\"govuk-link\" href=\"/search?filters%5Btopic%5D=Crime+and+justice\">Crime and justice</a>,\n",
       " <a class=\"govuk-link\" href=\"/search?filters%5Btopic%5D=Defence\">Defence</a>,\n",
       " <a class=\"govuk-link\" href=\"/search?filters%5Btopic%5D=Education\">Education</a>,\n",
       " <a class=\"govuk-link\" href=\"/search?filters%5Btopic%5D=Environment\">Environment</a>,\n",
       " <a class=\"govuk-link\" href=\"/search?filters%5Btopic%5D=Government\">Government</a>,\n",
       " <a class=\"govuk-link\" href=\"/search?filters%5Btopic%5D=Government+spending\">Government spending</a>,\n",
       " <a class=\"govuk-link\" href=\"/search?filters%5Btopic%5D=Health\">Health</a>,\n",
       " <a class=\"govuk-link\" href=\"/search?filters%5Btopic%5D=Mapping\">Mapping</a>,\n",
       " <a class=\"govuk-link\" href=\"/search?filters%5Btopic%5D=Society\">Society</a>,\n",
       " <a class=\"govuk-link\" href=\"/search?filters%5Btopic%5D=Towns+and+cities\">Towns and cities</a>,\n",
       " <a class=\"govuk-link\" href=\"/search?filters%5Btopic%5D=Transport\">Transport</a>,\n",
       " <a class=\"govuk-link\" href=\"/search?filters%5Btopic%5D=Digital+service+performance\">Digital service performance</a>,\n",
       " <a class=\"govuk-link\" href=\"/search?filters%5Btopic%5D=Government+reference+data\">Government reference data</a>]"
      ]
     },
     "execution_count": 40,
     "metadata": {},
     "output_type": "execute_result"
    }
   ],
   "source": [
    "soup3.select(\".govuk-link\")"
   ]
  },
  {
   "cell_type": "code",
   "execution_count": 41,
   "metadata": {},
   "outputs": [
    {
     "name": "stdout",
     "output_type": "stream",
     "text": [
      "['Business and economy', 'Crime and justice', 'Defence', 'Education', 'Environment', 'Government', 'Government spending', 'Health', 'Mapping', 'Society', 'Towns and cities', 'Transport', 'Digital service performance', 'Government reference data']\n"
     ]
    }
   ],
   "source": [
    "dept=[]\n",
    "num_iter = len(soup3.select(\" h3 > a\"))\n",
    "deptlist = soup3.select(\" h3 > a\")\n",
    "for i in range(num_iter):\n",
    "    dept.append(deptlist[i].get_text())\n",
    "print(dept)"
   ]
  },
  {
   "cell_type": "code",
   "execution_count": null,
   "metadata": {},
   "outputs": [],
   "source": []
  }
 ],
 "metadata": {
  "kernelspec": {
   "display_name": "Python 3",
   "language": "python",
   "name": "python3"
  },
  "language_info": {
   "codemirror_mode": {
    "name": "ipython",
    "version": 3
   },
   "file_extension": ".py",
   "mimetype": "text/x-python",
   "name": "python",
   "nbconvert_exporter": "python",
   "pygments_lexer": "ipython3",
   "version": "3.8.3"
  }
 },
 "nbformat": 4,
 "nbformat_minor": 4
}
